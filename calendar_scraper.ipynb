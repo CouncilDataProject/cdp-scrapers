{
 "cells": [
  {
   "cell_type": "code",
   "execution_count": 74,
   "metadata": {},
   "outputs": [],
   "source": [
    "from ast import main\n",
    "from random import weibullvariate\n",
    "from urllib import response\n",
    "from webbrowser import get\n",
    "from bs4 import BeautifulSoup\n",
    "# import webbrowser\n",
    "import requests as r\n",
    "from cdp_backend.pipeline import ingestion_models\n",
    "from datetime import datetime"
   ]
  },
  {
   "cell_type": "code",
   "execution_count": 85,
   "metadata": {},
   "outputs": [],
   "source": [
    "result = r.get(\"https://lims.minneapolismn.gov/sessionstatistics/resolutionsadopted?fd=01%2F01%2F2022&ed=07%2F22%2F2022&pid=&page=2\")\n",
    "doc = BeautifulSoup(result.content, 'html.parser')"
   ]
  },
  {
   "cell_type": "code",
   "execution_count": 86,
   "metadata": {},
   "outputs": [
    {
     "data": {
      "text/plain": [
       "[]"
      ]
     },
     "execution_count": 86,
     "metadata": {},
     "output_type": "execute_result"
    }
   ],
   "source": [
    "doc.find_all('td')"
   ]
  },
  {
   "cell_type": "code",
   "execution_count": 77,
   "metadata": {},
   "outputs": [
    {
     "name": "stdout",
     "output_type": "stream",
     "text": [
      "yes\n"
     ]
    }
   ],
   "source": [
    "if \"a href=\" in result.text:\n",
    "    print(\"yes\")\n",
    "else:\n",
    "    print(\"no\")"
   ]
  },
  {
   "cell_type": "code",
   "execution_count": 27,
   "metadata": {},
   "outputs": [
    {
     "name": "stdout",
     "output_type": "stream",
     "text": [
      "\n"
     ]
    },
    {
     "name": "stderr",
     "output_type": "stream",
     "text": [
      "C:\\Users\\MSI_NB\\AppData\\Local\\Temp\\ipykernel_960\\3376013940.py:5: DeprecationWarning: executable_path has been deprecated, please pass in a Service object\n",
      "  driver = webdriver.Chrome(executable_path=ChromeDriverManager().install())\n"
     ]
    }
   ],
   "source": [
    "from selenium import webdriver\n",
    "# from webdriver_manager.chrome import ChromeDriverManager\n",
    "from lxml import etree\n",
    "PATH = \"C:\\Program Files (x86)\\chromedriver.exe\"\n",
    "driver = webdriver.Chrome(executable_path=ChromeDriverManager().install())\n",
    "url = \"https://lims.minneapolismn.gov/sessionstatistics/resolutionsadopted?fd=01%2F01%2F2022&ed=07%2F22%2F2022&pid=&page=2\"\n",
    "driver.get(url)\n",
    "# html = etree.HTML(browser.page_source)\n",
    "# html"
   ]
  },
  {
   "cell_type": "code",
   "execution_count": 23,
   "metadata": {},
   "outputs": [],
   "source": [
    "from selenium.webdriver.common.keys import Keys\n",
    "import time\n",
    "from webdriver_manager.chrome import ChromeDriverManager"
   ]
  },
  {
   "cell_type": "code",
   "execution_count": 52,
   "metadata": {},
   "outputs": [
    {
     "data": {
      "text/plain": [
       "'5'"
      ]
     },
     "execution_count": 52,
     "metadata": {},
     "output_type": "execute_result"
    }
   ],
   "source": [
    "driver.find_element(by='css selector', value='#resolutionsAdoptedItems_length select option').text"
   ]
  },
  {
   "cell_type": "code",
   "execution_count": 53,
   "metadata": {},
   "outputs": [],
   "source": [
    "driver.quit()"
   ]
  },
  {
   "cell_type": "code",
   "execution_count": 87,
   "metadata": {},
   "outputs": [],
   "source": [
    "import requests as r\n",
    "import pandas as pd\n",
    "\n",
    "response = r.get(\"https://lims.minneapolismn.gov/Calendar/GetCalenderList?fromDate=May 1, 2021&toDate=Aug 1, 2022&meetingType=0&committeeId=null&pageCount=1000&offsetStart=0&abbreviation=undefined&keywords=\")\n",
    "committees = response.json()\n",
    "committees = pd.DataFrame(committees)\n",
    "# committees[committees['CommitteeType'] == 'City Council'].AgendaId\n",
    "# committees.columns"
   ]
  },
  {
   "cell_type": "code",
   "execution_count": 95,
   "metadata": {},
   "outputs": [
    {
     "data": {
      "text/plain": [
       "Id                                                                        5217\n",
       "CommitteeTypeId                                                              5\n",
       "CommitteeId                                                                213\n",
       "MeetingTypeId                                                                2\n",
       "CommitteeType                                                              ABC\n",
       "CommitteeName                  Minneapolis Arts Commission Executive Committee\n",
       "CommitteeEnumName              Minneapolis_Arts_Commission_Executive_Committee\n",
       "Abbreviation                                                            MAC-EX\n",
       "Location                                                        Online Meeting\n",
       "Address                                                         Online Meeting\n",
       "MeetingType                                                            Regular\n",
       "MeetingDate                                                2021-06-08T00:00:00\n",
       "MeetingTime                                                2021-06-08T17:00:00\n",
       "TotalRowsCount                                                               0\n",
       "AgendaId                                                                  2538\n",
       "MarkedAgendaPublished                                                     True\n",
       "Updated                                                                  False\n",
       "Cancelled                                                                False\n",
       "PublicHearing                                                            False\n",
       "AgendaStatus                                           Marked Agenda Published\n",
       "Description                  <p>\"Notice: This meeting may involve the remot...\n",
       "ImportedData                                                             False\n",
       "AgendaPDFAttachment                                                       None\n",
       "IsPdf                                                                    False\n",
       "CommitteeReportDocumentId                                                    0\n",
       "CommitteeReportDocument                                                       \n",
       "Department                                                                None\n",
       "DepartmentT4                                                              None\n",
       "Name: 90, dtype: object"
      ]
     },
     "execution_count": 95,
     "metadata": {},
     "output_type": "execute_result"
    }
   ],
   "source": [
    "# committees[committees.CommitteeType == 'City Council']\n",
    "committees[committees.AgendaStatus == 'Marked Agenda Published'].iloc[2]\n",
    "# 2509, ABC, https://lims.minneapolismn.gov/Board/MarkedAgenda/MCCR-CER/2509"
   ]
  },
  {
   "cell_type": "code",
   "execution_count": 73,
   "metadata": {},
   "outputs": [
    {
     "data": {
      "text/plain": [
       "Index(['CommitteeTypeId', 'PeriodId', 'Name', 'DisplayName', 'Purpose',\n",
       "       'Active', 'Abbreviation', 'EnumName', 'MembersCount', 'QuorumCount',\n",
       "       'ChairMan', 'ViceChairMan', 'Members', 'Location',\n",
       "       'CommitteeCoordinator', 'CoordinatorPhone', 'ParentCommittee',\n",
       "       'ParentCommitteeId', 'Address', 'AvaliableCalendars', 'StatusId',\n",
       "       'RowOrder', 'CommitteeSubTypeId', 'ClassificationId', 'ChairManMember',\n",
       "       'ViceChairManMember', 'CommitteeMember', 'MemberId',\n",
       "       'ViceChairmanMemberTypeName', 'CommitteeTypeName',\n",
       "       'CommitteeSubTypeName', 'ChairmanMemberTypeName', 'ChairmanName',\n",
       "       'ViceChairmanName', 'CommitteeName', 'MeetingTypeId', 'AgendaId',\n",
       "       'MeetingTime', 'AgendaSettingTime', 'DeadlineTime', 'StartDate',\n",
       "       'EndDate', 'IsReferenced', 'CommitteeCoordinatorId', 'Status', 'Level',\n",
       "       'IsMeetingsManagedInLIMS', 'ExternalUrl', 'PartiallyExternal',\n",
       "       'Description', 'PublicSearchCommitteeTypeCode', 'IndependentBodyDetail',\n",
       "       'IsIndependentBodyForPublicSearch', 'ShowLiveVideo', 'Id', 'Modified',\n",
       "       'ModifiedBy', 'IsValid', 'ValidationErrors'],\n",
       "      dtype='object')"
      ]
     },
     "execution_count": 73,
     "metadata": {},
     "output_type": "execute_result"
    }
   ],
   "source": [
    "response = r.get(\"https://lims.minneapolismn.gov/CityCouncil/GetCommitteesBasedOnCommitteeType?committeeTypeList=1,3\")\n",
    "c = response.json()\n",
    "c = pd.DataFrame(c)\n",
    "# c[c.CommitteeId == 3361]\n",
    "c.columns"
   ]
  },
  {
   "cell_type": "code",
   "execution_count": 99,
   "metadata": {},
   "outputs": [
    {
     "data": {
      "text/html": [
       "<div>\n",
       "<style scoped>\n",
       "    .dataframe tbody tr th:only-of-type {\n",
       "        vertical-align: middle;\n",
       "    }\n",
       "\n",
       "    .dataframe tbody tr th {\n",
       "        vertical-align: top;\n",
       "    }\n",
       "\n",
       "    .dataframe thead th {\n",
       "        text-align: right;\n",
       "    }\n",
       "</style>\n",
       "<table border=\"1\" class=\"dataframe\">\n",
       "  <thead>\n",
       "    <tr style=\"text-align: right;\">\n",
       "      <th></th>\n",
       "      <th>Id</th>\n",
       "      <th>CommitteeTypeId</th>\n",
       "      <th>CommitteeId</th>\n",
       "      <th>MeetingTypeId</th>\n",
       "      <th>CommitteeType</th>\n",
       "      <th>CommitteeName</th>\n",
       "      <th>CommitteeEnumName</th>\n",
       "      <th>Abbreviation</th>\n",
       "      <th>Location</th>\n",
       "      <th>Address</th>\n",
       "      <th>...</th>\n",
       "      <th>PublicHearing</th>\n",
       "      <th>AgendaStatus</th>\n",
       "      <th>Description</th>\n",
       "      <th>ImportedData</th>\n",
       "      <th>AgendaPDFAttachment</th>\n",
       "      <th>IsPdf</th>\n",
       "      <th>CommitteeReportDocumentId</th>\n",
       "      <th>CommitteeReportDocument</th>\n",
       "      <th>Department</th>\n",
       "      <th>DepartmentT4</th>\n",
       "    </tr>\n",
       "  </thead>\n",
       "  <tbody>\n",
       "    <tr>\n",
       "      <th>774</th>\n",
       "      <td>6287</td>\n",
       "      <td>1</td>\n",
       "      <td>179</td>\n",
       "      <td>2</td>\n",
       "      <td>Standing Committee</td>\n",
       "      <td>Budget Committee</td>\n",
       "      <td>Budget_Committee</td>\n",
       "      <td>Budget</td>\n",
       "      <td>Room 317, City Hall</td>\n",
       "      <td>350 S. 5th St., Minneapolis, MN 55415</td>\n",
       "      <td>...</td>\n",
       "      <td>False</td>\n",
       "      <td>Committee Report Published</td>\n",
       "      <td>&lt;p&gt;This Committee coordinates the budget revie...</td>\n",
       "      <td>False</td>\n",
       "      <td>None</td>\n",
       "      <td>False</td>\n",
       "      <td>0</td>\n",
       "      <td></td>\n",
       "      <td>None</td>\n",
       "      <td>None</td>\n",
       "    </tr>\n",
       "  </tbody>\n",
       "</table>\n",
       "<p>1 rows × 28 columns</p>\n",
       "</div>"
      ],
      "text/plain": [
       "       Id  CommitteeTypeId  CommitteeId  MeetingTypeId       CommitteeType  \\\n",
       "774  6287                1          179              2  Standing Committee   \n",
       "\n",
       "        CommitteeName CommitteeEnumName Abbreviation             Location  \\\n",
       "774  Budget Committee  Budget_Committee       Budget  Room 317, City Hall   \n",
       "\n",
       "                                   Address  ... PublicHearing  \\\n",
       "774  350 S. 5th St., Minneapolis, MN 55415  ...         False   \n",
       "\n",
       "                   AgendaStatus  \\\n",
       "774  Committee Report Published   \n",
       "\n",
       "                                           Description  ImportedData  \\\n",
       "774  <p>This Committee coordinates the budget revie...         False   \n",
       "\n",
       "     AgendaPDFAttachment  IsPdf  CommitteeReportDocumentId  \\\n",
       "774                 None  False                          0   \n",
       "\n",
       "     CommitteeReportDocument  Department DepartmentT4  \n",
       "774                                 None         None  \n",
       "\n",
       "[1 rows x 28 columns]"
      ]
     },
     "execution_count": 99,
     "metadata": {},
     "output_type": "execute_result"
    }
   ],
   "source": [
    "committees.sample(10).AgendaId    \n",
    "committees[committees.index == 774]                                                              "
   ]
  },
  {
   "cell_type": "code",
   "execution_count": 110,
   "metadata": {},
   "outputs": [
    {
     "data": {
      "text/plain": [
       "(array(['Independent Committee', 'ABC', 'Standing Committee', 'Events',\n",
       "        'City Council'], dtype=object),\n",
       " array(['Committee Report Published', 'Publish Meeting Minutes', None, '',\n",
       "        'Marked Agenda Published', 'Note Updated', 'Publish',\n",
       "        'Create Meeting Minutes'], dtype=object))"
      ]
     },
     "execution_count": 110,
     "metadata": {},
     "output_type": "execute_result"
    }
   ],
   "source": [
    "committees.CommitteeType.unique(), committees.AgendaStatus.unique()"
   ]
  },
  {
   "cell_type": "code",
   "execution_count": 126,
   "metadata": {},
   "outputs": [
    {
     "data": {
      "text/plain": [
       "34     2472\n",
       "307    2727\n",
       "340    2768\n",
       "345    2780\n",
       "636    3064\n",
       "658    3063\n",
       "667    3086\n",
       "688    3103\n",
       "782    3198\n",
       "792    3213\n",
       "797    3218\n",
       "798    3219\n",
       "833    3253\n",
       "867    3286\n",
       "920    3340\n",
       "931    3350\n",
       "936    3351\n",
       "937    3347\n",
       "947    3364\n",
       "948    3362\n",
       "952    3360\n",
       "953    3363\n",
       "954    3366\n",
       "Name: AgendaId, dtype: int64"
      ]
     },
     "execution_count": 126,
     "metadata": {},
     "output_type": "execute_result"
    }
   ],
   "source": [
    "committees[(committees.CommitteeType == 'ABC') & (committees.AgendaStatus == 'Publish')].AgendaId\n",
    "\n",
    "# ABC: https://lims.minneapolismn.gov/Board/MarkedAgenda/2440\n",
    "# Independent Committee: https://lims.minneapolismn.gov/Board/MarkedAgenda/2469\n",
    "# Standing Committee: https://lims.minneapolismn.gov/Board/MarkedAgenda/2438\n",
    "# Events: No AgendaID\n",
    "# City Council"
   ]
  },
  {
   "cell_type": "markdown",
   "metadata": {},
   "source": []
  }
 ],
 "metadata": {
  "kernelspec": {
   "display_name": "Python 3.10.4 64-bit",
   "language": "python",
   "name": "python3"
  },
  "language_info": {
   "codemirror_mode": {
    "name": "ipython",
    "version": 3
   },
   "file_extension": ".py",
   "mimetype": "text/x-python",
   "name": "python",
   "nbconvert_exporter": "python",
   "pygments_lexer": "ipython3",
   "version": "3.10.4"
  },
  "orig_nbformat": 4,
  "vscode": {
   "interpreter": {
    "hash": "369f2c481f4da34e4445cda3fffd2e751bd1c4d706f27375911949ba6bb62e1c"
   }
  }
 },
 "nbformat": 4,
 "nbformat_minor": 2
}
