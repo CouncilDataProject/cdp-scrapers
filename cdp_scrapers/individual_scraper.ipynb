{
 "cells": [
  {
   "cell_type": "code",
   "execution_count": 150,
   "metadata": {},
   "outputs": [
    {
     "name": "stdout",
     "output_type": "stream",
     "text": [
      "\n"
     ]
    },
    {
     "name": "stderr",
     "output_type": "stream",
     "text": [
      "C:\\Users\\MSI_NB\\AppData\\Local\\Temp\\ipykernel_13836\\4143411418.py:1: DeprecationWarning: executable_path has been deprecated, please pass in a Service object\n",
      "  driver = webdriver.Chrome(executable_path=ChromeDriverManager().install())\n"
     ]
    }
   ],
   "source": [
    "driver = webdriver.Chrome(executable_path=ChromeDriverManager().install())\n",
    "url = \"https://lims.minneapolismn.gov/MarkedAgenda/3323\"\n",
    "driver.get(url)"
   ]
  },
  {
   "cell_type": "code",
   "execution_count": 1,
   "metadata": {},
   "outputs": [],
   "source": [
    "from selenium.webdriver.common.keys import Keys\n",
    "# import time\n",
    "from webdriver_manager.chrome import ChromeDriverManager\n",
    "from selenium import webdriver\n",
    "import selenium\n",
    "from selenium.webdriver.common.keys import Keys\n",
    "from selenium.webdriver.common.by import By\n",
    "from cdp_backend.pipeline import ingestion_models\n",
    "from datetime import datetime\n",
    "from selenium.webdriver.support.ui import WebDriverWait\n",
    "from selenium.webdriver.support import expected_conditions as ec"
   ]
  },
  {
   "cell_type": "code",
   "execution_count": 29,
   "metadata": {},
   "outputs": [
    {
     "data": {
      "text/plain": [
       "''"
      ]
     },
     "execution_count": 29,
     "metadata": {},
     "output_type": "execute_result"
    }
   ],
   "source": [
    "sessions = []\n",
    "\n",
    "# Get Datetime:\n",
    "dt = driver.find_element(by='css selector', value='.agendaHeader .col-md-12:nth-child(3)').text \\\n",
    "    .replace(',', '').replace('- ', '').split(' ')\n",
    "month, day, year, time, ampm = dt\n",
    "hour, minute = time.split(':')\n",
    "hour, minute = int(hour), int(minute)\n",
    "hour, minute\n",
    "if ampm == 'pm':\n",
    "    hour += 12\n",
    "dt = datetime(int(year), datetime.strptime(month, \"%B\").month, int(day), hour, minute)\n",
    "\n",
    "video_link = driver.find_element(by='id', value='VideoIcon_0_0')\n",
    "video_link.click()\n",
    "video = WebDriverWait(driver, 4).until(\n",
    "    ec.presence_of_element_located((By.CSS_SELECTOR, '.close span'))\n",
    "    # .ytp-right-controls .yt-uix-sessionlink\n",
    ")\n",
    "\n",
    "link = WebDriverWait(driver, 2).until(\n",
    "    ec.presence_of_element_located((By.CSS_SELECTOR, 'iframe'))\n",
    "    # .ytp-right-controls .yt-uix-sessionlink\n",
    ")\n",
    "# video.get_attribute('src')\n",
    "sessions.append(\n",
    "    ingestion_models.Session(\n",
    "        # Get Video Link:\n",
    "        video_uri=link.get_attribute('src'),\n",
    "        session_index=0,\n",
    "        session_datetime=dt\n",
    "    )\n",
    ")\n",
    "# close_link = video.find_element(By.CSS_SELECTOR, '.modal-header button')\n",
    "video.text\n",
    "# sessions"
   ]
  },
  {
   "cell_type": "code",
   "execution_count": 151,
   "metadata": {},
   "outputs": [
    {
     "data": {
      "text/plain": [
       "(2022, 6, 30)"
      ]
     },
     "execution_count": 151,
     "metadata": {},
     "output_type": "execute_result"
    }
   ],
   "source": [
    "dt = driver.find_element(by='css selector', value='.agendaHeader .col-md-12:nth-child(3)').text \\\n",
    "    .replace(',', '').replace('- ', '').split(' ')\n",
    "month, day, year, time, ampm = dt\n",
    "hour, minute = time.split(':')\n",
    "hour, minute = int(hour), int(minute)\n",
    "hour, minute\n",
    "if ampm == 'pm':\n",
    "    hour += 12\n",
    "dt = datetime(int(year), datetime.strptime(month, \"%B\").month, int(day), hour, minute)\n",
    "dt.isoformat()\n",
    "dt.year, dt.month, dt.day"
   ]
  },
  {
   "cell_type": "code",
   "execution_count": 152,
   "metadata": {},
   "outputs": [
    {
     "name": "stdout",
     "output_type": "stream",
     "text": [
      "a\n"
     ]
    },
    {
     "data": {
      "text/plain": [
       "[EventMinutesItem(minutes_item=MinutesItem(name='Adoption of the agenda.', description=None, external_source_id=None), index=None, matter=None, supporting_files=None, decision='Adopted as amended', votes=None),\n",
       " EventMinutesItem(minutes_item=MinutesItem(name='Acceptance of minutes\\nRegular Meeting of June 16, 2022', description=None, external_source_id=None), index=None, matter=None, supporting_files=None, decision='Accepted', votes=None),\n",
       " EventMinutesItem(minutes_item=MinutesItem(name='Referral of petitions, communications, and reports to the proper Committees.', description=None, external_source_id=None), index=None, matter=None, supporting_files=None, decision='Referred', votes=None)]"
      ]
     },
     "execution_count": 152,
     "metadata": {},
     "output_type": "execute_result"
    }
   ],
   "source": [
    "# Inspecting each minute_item:\n",
    "li = driver.find_elements(by='css selector', value='li.customLineHeight')\n",
    "event_minutes_items = []\n",
    "month_convert = {\n",
    "    'Jan': 'January',\n",
    "    'Feb': 'February',\n",
    "    'Mar': 'March',\n",
    "    'Apr': 'April',\n",
    "    'May': 'May',\n",
    "    'Jun': 'June',\n",
    "    'Jul': 'July',\n",
    "    'Aug': 'August',\n",
    "    'Sep': 'September',\n",
    "    'Oct': 'October',\n",
    "    'Nov': 'November',\n",
    "    'Dec': 'December'\n",
    "}\n",
    "for list in li[:6]:\n",
    "    try:\n",
    "        if list.find_element(by='css selector', value='a').get_attribute('class') == 'hrefnowrap':\n",
    "            link = list.find_element(by='css selector', value='.hrefnowrap')#.get_attribute('href')\n",
    "            link.click()\n",
    "            before = driver.window_handles[0]\n",
    "            after = driver.window_handles[1]\n",
    "            driver.switch_to.window(after)\n",
    "            element = WebDriverWait(driver, 2).until(\n",
    "                ec.presence_of_element_located((By.CSS_SELECTOR, 'body'))\n",
    "            )\n",
    "            # print(element.text)\n",
    "            minutes_item = element.find_element(By.CSS_SELECTOR, '.togglec .ng-binding')\n",
    "            name = minutes_item.text.replace('This link open a new window\\n', '')\n",
    "            title = element.find_element(By.CSS_SELECTOR, '.legisDetails-tog p').text\n",
    "            m_type = element.find_element(By.CSS_SELECTOR, '.togglec h5').text.split(' ')[0]\n",
    "            decision = element.find_element(By.CSS_SELECTOR, 'span.detail_Status').text\n",
    "            \n",
    "            tables = element.find_elements(By.CSS_SELECTOR, '.col_full.nobottommargin')\n",
    "            for table in tables:\n",
    "                if 'Legislative History' in table.text:\n",
    "                    rows = table.find_elements(By.CSS_SELECTOR, 'table tr')\n",
    "                    rows = rows[1:-1]\n",
    "                    # print(rows[0].text)\n",
    "                    for row in rows:\n",
    "                        vote_date = row.find_element(By.CSS_SELECTOR, 'td:nth-child(1)').text #.split(' ')\n",
    "                        vote_date = vote_date.replace(vote_date[:3], month_convert[vote_date[:3]])\n",
    "                        vote_date = datetime.strptime(vote_date, \"%B %d, %Y\")\n",
    "                        if (vote_date.year, vote_date.month, vote_date.day) == (dt.year, dt.month, dt.day):\n",
    "                            vote_link = row.find_element(By.CSS_SELECTOR, 'td:nth-child(2) a')\n",
    "                            vote_link.click()\n",
    "                            element = WebDriverWait(driver, 2).until(\n",
    "                                ec.presence_of_element_located((By.CSS_SELECTOR, '.vote-table'))\n",
    "                            )\n",
    "                            # print(element.text)\n",
    "                            print('a')\n",
    "                            break\n",
    "\n",
    "            driver.switch_to.window(before)\n",
    "        else:\n",
    "            try:\n",
    "                model = ingestion_models.EventMinutesItem(\n",
    "                    minutes_item = ingestion_models.MinutesItem(\n",
    "                        list.find_element(by='css selector', value='.custom-rcaview-action-review').text\n",
    "                    ),\n",
    "                    decision = list.find_element(by='css selector', value='.col-md-12 b').text.replace('Action Taken: ', '')\n",
    "                )\n",
    "                event_minutes_items.append(model)\n",
    "            except (selenium.common.exceptions.NoSuchElementException):\n",
    "                continue\n",
    "    except (selenium.common.exceptions.NoSuchElementException):\n",
    "        continue\n",
    "event_minutes_items"
   ]
  },
  {
   "cell_type": "code",
   "execution_count": 147,
   "metadata": {},
   "outputs": [],
   "source": [
    "driver.switch_to.window(before)"
   ]
  },
  {
   "cell_type": "code",
   "execution_count": 149,
   "metadata": {},
   "outputs": [],
   "source": [
    "driver.quit()"
   ]
  },
  {
   "cell_type": "code",
   "execution_count": null,
   "metadata": {},
   "outputs": [],
   "source": []
  }
 ],
 "metadata": {
  "kernelspec": {
   "display_name": "Python 3.10.4 64-bit",
   "language": "python",
   "name": "python3"
  },
  "language_info": {
   "codemirror_mode": {
    "name": "ipython",
    "version": 3
   },
   "file_extension": ".py",
   "mimetype": "text/x-python",
   "name": "python",
   "nbconvert_exporter": "python",
   "pygments_lexer": "ipython3",
   "version": "3.10.4"
  },
  "orig_nbformat": 4,
  "vscode": {
   "interpreter": {
    "hash": "369f2c481f4da34e4445cda3fffd2e751bd1c4d706f27375911949ba6bb62e1c"
   }
  }
 },
 "nbformat": 4,
 "nbformat_minor": 2
}
