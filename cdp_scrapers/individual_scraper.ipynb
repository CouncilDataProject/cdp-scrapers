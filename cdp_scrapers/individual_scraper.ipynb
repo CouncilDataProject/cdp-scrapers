{
 "cells": [
  {
   "cell_type": "code",
   "execution_count": 166,
   "metadata": {},
   "outputs": [],
   "source": [
    "from selenium.webdriver.common.keys import Keys\n",
    "import time\n",
    "from webdriver_manager.chrome import ChromeDriverManager\n",
    "from selenium import webdriver\n",
    "import selenium\n",
    "from selenium.webdriver.common.keys import Keys\n",
    "from selenium.webdriver.common.by import By\n",
    "from cdp_backend.pipeline import ingestion_models\n",
    "from datetime import datetime\n",
    "from selenium.webdriver.support.ui import WebDriverWait\n",
    "from selenium.webdriver.support import expected_conditions as ec\n",
    "import pandas as pd\n",
    "from cdp_backend.database import constants as db_constants\n",
    "import re"
   ]
  },
  {
   "cell_type": "code",
   "execution_count": 156,
   "metadata": {},
   "outputs": [],
   "source": [
    "# db_constants.VoteDecision.\n",
    "driver.quit()"
   ]
  },
  {
   "cell_type": "code",
   "execution_count": 157,
   "metadata": {},
   "outputs": [
    {
     "name": "stdout",
     "output_type": "stream",
     "text": [
      "\n"
     ]
    },
    {
     "name": "stderr",
     "output_type": "stream",
     "text": [
      "C:\\Users\\MSI_NB\\AppData\\Local\\Temp\\ipykernel_4308\\3321121787.py:3: DeprecationWarning: executable_path has been deprecated, please pass in a Service object\n",
      "  driver = webdriver.Chrome(executable_path=ChromeDriverManager().install())\n"
     ]
    },
    {
     "name": "stdout",
     "output_type": "stream",
     "text": [
      "seat image: https://www.minneapolismn.gov/media/-www-content-assets/images/Minneapolis-Ward1-Map.png\n",
      "phone #: 612-673-2201\n"
     ]
    },
    {
     "name": "stderr",
     "output_type": "stream",
     "text": [
      "C:\\Users\\MSI_NB\\AppData\\Local\\Temp\\ipykernel_4308\\3321121787.py:37: FutureWarning: The frame.append method is deprecated and will be removed from pandas in a future version. Use pandas.concat instead.\n",
      "  city_council = city_council.append({'name': name, 'position': position, 'role': role, 'picture': picture, 'phone': phone_num, 'electoral_area': elec_area, 'seat_img': seat_img, 'email': email}, ignore_index=True)\n"
     ]
    },
    {
     "name": "stdout",
     "output_type": "stream",
     "text": [
      "seat image: https://www.minneapolismn.gov/media/-www-content-assets/images/Minneapolis-Ward2-Map.png\n",
      "phone #: 612-673-2202\n"
     ]
    },
    {
     "name": "stderr",
     "output_type": "stream",
     "text": [
      "C:\\Users\\MSI_NB\\AppData\\Local\\Temp\\ipykernel_4308\\3321121787.py:37: FutureWarning: The frame.append method is deprecated and will be removed from pandas in a future version. Use pandas.concat instead.\n",
      "  city_council = city_council.append({'name': name, 'position': position, 'role': role, 'picture': picture, 'phone': phone_num, 'electoral_area': elec_area, 'seat_img': seat_img, 'email': email}, ignore_index=True)\n"
     ]
    },
    {
     "name": "stdout",
     "output_type": "stream",
     "text": [
      "seat image: https://www.minneapolismn.gov/media/-www-content-assets/images/Minneapolis-Ward3-Map.png\n",
      "phone #: 612-673-2203\n"
     ]
    },
    {
     "name": "stderr",
     "output_type": "stream",
     "text": [
      "C:\\Users\\MSI_NB\\AppData\\Local\\Temp\\ipykernel_4308\\3321121787.py:37: FutureWarning: The frame.append method is deprecated and will be removed from pandas in a future version. Use pandas.concat instead.\n",
      "  city_council = city_council.append({'name': name, 'position': position, 'role': role, 'picture': picture, 'phone': phone_num, 'electoral_area': elec_area, 'seat_img': seat_img, 'email': email}, ignore_index=True)\n"
     ]
    },
    {
     "name": "stdout",
     "output_type": "stream",
     "text": [
      "seat image: https://www.minneapolismn.gov/media/-www-content-assets/images/Minneapolis-Ward4-Map.png\n",
      "phone #: 612-673-2204\n"
     ]
    },
    {
     "name": "stderr",
     "output_type": "stream",
     "text": [
      "C:\\Users\\MSI_NB\\AppData\\Local\\Temp\\ipykernel_4308\\3321121787.py:37: FutureWarning: The frame.append method is deprecated and will be removed from pandas in a future version. Use pandas.concat instead.\n",
      "  city_council = city_council.append({'name': name, 'position': position, 'role': role, 'picture': picture, 'phone': phone_num, 'electoral_area': elec_area, 'seat_img': seat_img, 'email': email}, ignore_index=True)\n"
     ]
    },
    {
     "name": "stdout",
     "output_type": "stream",
     "text": [
      "seat image: https://www.minneapolismn.gov/media/-www-content-assets/images/Minneapolis-Ward5-Map.png\n",
      "phone #: 612-673-2205\n"
     ]
    },
    {
     "name": "stderr",
     "output_type": "stream",
     "text": [
      "C:\\Users\\MSI_NB\\AppData\\Local\\Temp\\ipykernel_4308\\3321121787.py:37: FutureWarning: The frame.append method is deprecated and will be removed from pandas in a future version. Use pandas.concat instead.\n",
      "  city_council = city_council.append({'name': name, 'position': position, 'role': role, 'picture': picture, 'phone': phone_num, 'electoral_area': elec_area, 'seat_img': seat_img, 'email': email}, ignore_index=True)\n"
     ]
    },
    {
     "name": "stdout",
     "output_type": "stream",
     "text": [
      "seat image: https://www.minneapolismn.gov/media/-www-content-assets/images/Minneapolis-Ward6-Map.png\n",
      "phone #: 612-673-2206\n"
     ]
    },
    {
     "name": "stderr",
     "output_type": "stream",
     "text": [
      "C:\\Users\\MSI_NB\\AppData\\Local\\Temp\\ipykernel_4308\\3321121787.py:37: FutureWarning: The frame.append method is deprecated and will be removed from pandas in a future version. Use pandas.concat instead.\n",
      "  city_council = city_council.append({'name': name, 'position': position, 'role': role, 'picture': picture, 'phone': phone_num, 'electoral_area': elec_area, 'seat_img': seat_img, 'email': email}, ignore_index=True)\n"
     ]
    },
    {
     "name": "stdout",
     "output_type": "stream",
     "text": [
      "seat image: https://www.minneapolismn.gov/media/-www-content-assets/images/Minneapolis-Ward7-Map.png\n",
      "go on\n",
      "phone #: 612-673-2207\n"
     ]
    },
    {
     "name": "stderr",
     "output_type": "stream",
     "text": [
      "C:\\Users\\MSI_NB\\AppData\\Local\\Temp\\ipykernel_4308\\3321121787.py:37: FutureWarning: The frame.append method is deprecated and will be removed from pandas in a future version. Use pandas.concat instead.\n",
      "  city_council = city_council.append({'name': name, 'position': position, 'role': role, 'picture': picture, 'phone': phone_num, 'electoral_area': elec_area, 'seat_img': seat_img, 'email': email}, ignore_index=True)\n"
     ]
    },
    {
     "name": "stdout",
     "output_type": "stream",
     "text": [
      "seat image: https://www.minneapolismn.gov/media/-www-content-assets/images/Minneapolis-Ward8-Map.png\n",
      "phone #: 612-673-2208\n"
     ]
    },
    {
     "name": "stderr",
     "output_type": "stream",
     "text": [
      "C:\\Users\\MSI_NB\\AppData\\Local\\Temp\\ipykernel_4308\\3321121787.py:37: FutureWarning: The frame.append method is deprecated and will be removed from pandas in a future version. Use pandas.concat instead.\n",
      "  city_council = city_council.append({'name': name, 'position': position, 'role': role, 'picture': picture, 'phone': phone_num, 'electoral_area': elec_area, 'seat_img': seat_img, 'email': email}, ignore_index=True)\n"
     ]
    },
    {
     "name": "stdout",
     "output_type": "stream",
     "text": [
      "seat image: https://www.minneapolismn.gov/media/-www-content-assets/images/Minneapolis-Ward9-Map.png\n",
      "phone #: 612-673-2209\n"
     ]
    },
    {
     "name": "stderr",
     "output_type": "stream",
     "text": [
      "C:\\Users\\MSI_NB\\AppData\\Local\\Temp\\ipykernel_4308\\3321121787.py:37: FutureWarning: The frame.append method is deprecated and will be removed from pandas in a future version. Use pandas.concat instead.\n",
      "  city_council = city_council.append({'name': name, 'position': position, 'role': role, 'picture': picture, 'phone': phone_num, 'electoral_area': elec_area, 'seat_img': seat_img, 'email': email}, ignore_index=True)\n"
     ]
    },
    {
     "name": "stdout",
     "output_type": "stream",
     "text": [
      "seat image: https://www.minneapolismn.gov/media/-www-content-assets/images/Minneapolis-Ward10-Map.png\n",
      "phone #: 612-673-2210\n"
     ]
    },
    {
     "name": "stderr",
     "output_type": "stream",
     "text": [
      "C:\\Users\\MSI_NB\\AppData\\Local\\Temp\\ipykernel_4308\\3321121787.py:37: FutureWarning: The frame.append method is deprecated and will be removed from pandas in a future version. Use pandas.concat instead.\n",
      "  city_council = city_council.append({'name': name, 'position': position, 'role': role, 'picture': picture, 'phone': phone_num, 'electoral_area': elec_area, 'seat_img': seat_img, 'email': email}, ignore_index=True)\n"
     ]
    },
    {
     "name": "stdout",
     "output_type": "stream",
     "text": [
      "seat image: https://www.minneapolismn.gov/media/-www-content-assets/images/Minneapolis-Ward11-Map.png\n",
      "phone #: 612-673-2211\n"
     ]
    },
    {
     "name": "stderr",
     "output_type": "stream",
     "text": [
      "C:\\Users\\MSI_NB\\AppData\\Local\\Temp\\ipykernel_4308\\3321121787.py:37: FutureWarning: The frame.append method is deprecated and will be removed from pandas in a future version. Use pandas.concat instead.\n",
      "  city_council = city_council.append({'name': name, 'position': position, 'role': role, 'picture': picture, 'phone': phone_num, 'electoral_area': elec_area, 'seat_img': seat_img, 'email': email}, ignore_index=True)\n"
     ]
    },
    {
     "name": "stdout",
     "output_type": "stream",
     "text": [
      "seat image: https://www.minneapolismn.gov/media/-www-content-assets/images/Minneapolis-Ward12-Map.png\n",
      "phone #: 612-673-2212\n"
     ]
    },
    {
     "name": "stderr",
     "output_type": "stream",
     "text": [
      "C:\\Users\\MSI_NB\\AppData\\Local\\Temp\\ipykernel_4308\\3321121787.py:37: FutureWarning: The frame.append method is deprecated and will be removed from pandas in a future version. Use pandas.concat instead.\n",
      "  city_council = city_council.append({'name': name, 'position': position, 'role': role, 'picture': picture, 'phone': phone_num, 'electoral_area': elec_area, 'seat_img': seat_img, 'email': email}, ignore_index=True)\n"
     ]
    },
    {
     "name": "stdout",
     "output_type": "stream",
     "text": [
      "seat image: https://www.minneapolismn.gov/media/-www-content-assets/images/Minneapolis-Ward13-Map.png\n",
      "phone #: 612-673-2213\n"
     ]
    },
    {
     "name": "stderr",
     "output_type": "stream",
     "text": [
      "C:\\Users\\MSI_NB\\AppData\\Local\\Temp\\ipykernel_4308\\3321121787.py:37: FutureWarning: The frame.append method is deprecated and will be removed from pandas in a future version. Use pandas.concat instead.\n",
      "  city_council = city_council.append({'name': name, 'position': position, 'role': role, 'picture': picture, 'phone': phone_num, 'electoral_area': elec_area, 'seat_img': seat_img, 'email': email}, ignore_index=True)\n"
     ]
    }
   ],
   "source": [
    "# Get basic council memeber information\n",
    "city_council = pd.DataFrame()\n",
    "driver = webdriver.Chrome(executable_path=ChromeDriverManager().install())\n",
    "council_url = 'https://www.minneapolismn.gov/government/city-council/'\n",
    "driver.get(council_url)\n",
    "cards = driver.find_elements(By.CSS_SELECTOR, '#image-text-link-50242 a.card-link')\n",
    "len(cards)\n",
    "for card in cards:\n",
    "    driver.get(card.get_attribute('href'))\n",
    "    position, name = driver.find_element(By.CSS_SELECTOR, '.masthead--title').text.split(' - ')\n",
    "    role = driver.find_element(By.CSS_SELECTOR, 'a.contact span.title').text\n",
    "    picture = driver.find_element(By.CSS_SELECTOR, 'a.contact img').get_attribute('src')\n",
    "    elec_areas = None\n",
    "    if position == 'Ward 5':\n",
    "        elec_areas = driver.find_elements(By.CSS_SELECTOR, '.multicolumn-content li')\n",
    "    else:\n",
    "        elec_areas = driver.find_elements(By.CSS_SELECTOR, '.cell.medium-12.large-8 li')\n",
    "    elec_area = []\n",
    "    for area in elec_areas:\n",
    "        elec_area.append(area.text)\n",
    "    seat_img = driver.find_element(By.CSS_SELECTOR, 'section div.grid-container.fluid figure img').get_attribute('src')\n",
    "    print('seat image: ' + seat_img)\n",
    "    cell_num = 2\n",
    "    email = None\n",
    "    try:\n",
    "        driver.find_element(By.CSS_SELECTOR, f'.multicolumn-content--columns.large-up-4.medium-up-2:nth-child(1) .cell:nth-child({cell_num}) button').click()\n",
    "        email = WebDriverWait(driver, 2).until(\n",
    "            ec.visibility_of_element_located((By.CSS_SELECTOR, f'.multicolumn-content--columns.large-up-4.medium-up-2:nth-child(1) .cell:nth-child({cell_num}) p p'))\n",
    "        ).text\n",
    "        cell_num += 1\n",
    "    except (selenium.common.exceptions.NoSuchElementException):\n",
    "        print('go on')\n",
    "    # print(driver.find_element(By.CSS_SELECTOR, 'section.organism:nth-last-child(4)').text)\n",
    "    phone_num = driver.find_element(By.CSS_SELECTOR, f'.multicolumn-content--columns.large-up-4.medium-up-2:nth-child(1) .cell:nth-child({cell_num}) p:nth-child(2)').text\n",
    "    # #contact-114680 > div > div > div:nth-child(3) > div > p:nth-child(2) > a\n",
    "    print('phone #: ' + phone_num)\n",
    "    city_council = city_council.append({'name': name, 'position': position, 'role': role, 'picture': picture, 'phone': phone_num, 'electoral_area': elec_area, 'seat_img': seat_img, 'email': email}, ignore_index=True)\n",
    "    driver.back()\n",
    "driver.quit()"
   ]
  },
  {
   "cell_type": "code",
   "execution_count": 159,
   "metadata": {},
   "outputs": [
    {
     "data": {
      "text/plain": [
       "Index(['name', 'position', 'role', 'picture', 'phone', 'electoral_area',\n",
       "       'seat_img', 'email'],\n",
       "      dtype='object')"
      ]
     },
     "execution_count": 159,
     "metadata": {},
     "output_type": "execute_result"
    }
   ],
   "source": [
    "city_council.columns"
   ]
  },
  {
   "cell_type": "code",
   "execution_count": 162,
   "metadata": {},
   "outputs": [
    {
     "name": "stdout",
     "output_type": "stream",
     "text": [
      "\n"
     ]
    },
    {
     "name": "stderr",
     "output_type": "stream",
     "text": [
      "C:\\Users\\MSI_NB\\AppData\\Local\\Temp\\ipykernel_4308\\1359516127.py:1: DeprecationWarning: executable_path has been deprecated, please pass in a Service object\n",
      "  driver = webdriver.Chrome(executable_path=ChromeDriverManager().install())\n"
     ]
    },
    {
     "name": "stdout",
     "output_type": "stream",
     "text": [
      "['June', '30', '2022', '9:30', 'am']\n"
     ]
    },
    {
     "data": {
      "text/plain": [
       "{'Elliott Payne': 'Council Member',\n",
       " 'Robin Wonsley': 'Council Member',\n",
       " 'Michael Rainville': 'Council Member',\n",
       " 'LaTrisha Vetaw': 'Council Member',\n",
       " 'Jeremiah Ellison': 'Council Member',\n",
       " 'Jamal Osman': 'Council Member',\n",
       " 'Lisa Goodman': 'Council Member',\n",
       " 'Andrea Jenkins': 'Council President',\n",
       " 'Jason Chavez': 'Council Member',\n",
       " 'Aisha Chughtai': 'Council Member',\n",
       " 'Emily Koski': 'Council Member',\n",
       " 'Andrew Johnson': 'Council Member',\n",
       " 'Linea Palmisano': 'Council Vice-President'}"
      ]
     },
     "execution_count": 162,
     "metadata": {},
     "output_type": "execute_result"
    }
   ],
   "source": [
    "driver = webdriver.Chrome(executable_path=ChromeDriverManager().install())\n",
    "url = \"https://lims.minneapolismn.gov/MarkedAgenda/3323\"\n",
    "driver.get(url)\n",
    "\n",
    "sessions = []\n",
    "\n",
    "# Get Datetime:\n",
    "dt = driver.find_element(by='css selector', value='.agendaHeader .col-md-12:nth-child(3)').text \\\n",
    "    .replace(',', '').replace('- ', '').split(' ')\n",
    "print(dt)\n",
    "month, day, year, time, ampm = dt\n",
    "hour, minute = time.split(':')\n",
    "hour, minute = int(hour), int(minute)\n",
    "hour, minute\n",
    "if ampm == 'pm':\n",
    "    hour += 12\n",
    "dt = datetime(int(year), datetime.strptime(month, \"%B\").month, int(day), hour, minute)\n",
    "dt.isoformat()\n",
    "dt.year, dt.month, dt.day\n",
    "\n",
    "# Get voters\n",
    "member_roles = {}\n",
    "for member in city_council['name']:\n",
    "    member_roles[member] = city_council[city_council['name'] == member]['role'].values[0]\n",
    "members = driver.find_element(By.XPATH, '//*[@id=\"markedAgendaSection\"]/div[1]/div/div/div[2]')\n",
    "members = members.text.replace('Members Present: Council Members ', '').split(', ')\n",
    "members[-1] = members[-1].replace('and ', '')\n",
    "for member in members:\n",
    "    member = member.split(' ')\n",
    "    if len(member) > 2:\n",
    "        member_roles[member[0]+' '+member[1]] = 'Council ' + member[2].replace('(', '').replace(')', '')\n",
    "driver.quit()\n",
    "member_roles"
   ]
  },
  {
   "cell_type": "code",
   "execution_count": 72,
   "metadata": {},
   "outputs": [
    {
     "name": "stdout",
     "output_type": "stream",
     "text": [
      "\n"
     ]
    },
    {
     "ename": "KeyboardInterrupt",
     "evalue": "",
     "output_type": "error",
     "traceback": [
      "\u001b[1;31m---------------------------------------------------------------------------\u001b[0m",
      "\u001b[1;31mKeyboardInterrupt\u001b[0m                         Traceback (most recent call last)",
      "\u001b[1;32mc:\\Users\\MSI_NB\\Desktop\\Academics\\CDP\\cdp-scrapers\\cdp_scrapers\\individual_scraper.ipynb Cell 7\u001b[0m in \u001b[0;36m<cell line: 1>\u001b[1;34m()\u001b[0m\n\u001b[1;32m----> <a href='vscode-notebook-cell:/c%3A/Users/MSI_NB/Desktop/Academics/CDP/cdp-scrapers/cdp_scrapers/individual_scraper.ipynb#W6sZmlsZQ%3D%3D?line=0'>1</a>\u001b[0m driver \u001b[39m=\u001b[39m webdriver\u001b[39m.\u001b[39mChrome(executable_path\u001b[39m=\u001b[39mChromeDriverManager()\u001b[39m.\u001b[39;49minstall())\n\u001b[0;32m      <a href='vscode-notebook-cell:/c%3A/Users/MSI_NB/Desktop/Academics/CDP/cdp-scrapers/cdp_scrapers/individual_scraper.ipynb#W6sZmlsZQ%3D%3D?line=1'>2</a>\u001b[0m url \u001b[39m=\u001b[39m \u001b[39m\"\u001b[39m\u001b[39mhttps://lims.minneapolismn.gov/MarkedAgenda/3323\u001b[39m\u001b[39m\"\u001b[39m\n\u001b[0;32m      <a href='vscode-notebook-cell:/c%3A/Users/MSI_NB/Desktop/Academics/CDP/cdp-scrapers/cdp_scrapers/individual_scraper.ipynb#W6sZmlsZQ%3D%3D?line=2'>3</a>\u001b[0m driver\u001b[39m.\u001b[39mget(url)\n",
      "File \u001b[1;32mc:\\Python310\\lib\\site-packages\\webdriver_manager\\chrome.py:38\u001b[0m, in \u001b[0;36mChromeDriverManager.install\u001b[1;34m(self)\u001b[0m\n\u001b[0;32m     37\u001b[0m \u001b[39mdef\u001b[39;00m \u001b[39minstall\u001b[39m(\u001b[39mself\u001b[39m) \u001b[39m-\u001b[39m\u001b[39m>\u001b[39m \u001b[39mstr\u001b[39m:\n\u001b[1;32m---> 38\u001b[0m     driver_path \u001b[39m=\u001b[39m \u001b[39mself\u001b[39;49m\u001b[39m.\u001b[39;49m_get_driver_path(\u001b[39mself\u001b[39;49m\u001b[39m.\u001b[39;49mdriver)\n\u001b[0;32m     39\u001b[0m     os\u001b[39m.\u001b[39mchmod(driver_path, \u001b[39m0o755\u001b[39m)\n\u001b[0;32m     40\u001b[0m     \u001b[39mreturn\u001b[39;00m driver_path\n",
      "File \u001b[1;32mc:\\Python310\\lib\\site-packages\\webdriver_manager\\core\\manager.py:27\u001b[0m, in \u001b[0;36mDriverManager._get_driver_path\u001b[1;34m(self, driver)\u001b[0m\n\u001b[0;32m     26\u001b[0m \u001b[39mdef\u001b[39;00m \u001b[39m_get_driver_path\u001b[39m(\u001b[39mself\u001b[39m, driver):\n\u001b[1;32m---> 27\u001b[0m     binary_path \u001b[39m=\u001b[39m \u001b[39mself\u001b[39;49m\u001b[39m.\u001b[39;49mdriver_cache\u001b[39m.\u001b[39;49mfind_driver(driver)\n\u001b[0;32m     28\u001b[0m     \u001b[39mif\u001b[39;00m binary_path:\n\u001b[0;32m     29\u001b[0m         \u001b[39mreturn\u001b[39;00m binary_path\n",
      "File \u001b[1;32mc:\\Python310\\lib\\site-packages\\webdriver_manager\\core\\driver_cache.py:98\u001b[0m, in \u001b[0;36mDriverCache.find_driver\u001b[1;34m(self, driver)\u001b[0m\n\u001b[0;32m     96\u001b[0m driver_name \u001b[39m=\u001b[39m driver\u001b[39m.\u001b[39mget_name()\n\u001b[0;32m     97\u001b[0m driver_version \u001b[39m=\u001b[39m driver\u001b[39m.\u001b[39mget_version()\n\u001b[1;32m---> 98\u001b[0m browser_version \u001b[39m=\u001b[39m driver\u001b[39m.\u001b[39;49mget_browser_version()\n\u001b[0;32m     99\u001b[0m browser_type \u001b[39m=\u001b[39m driver\u001b[39m.\u001b[39mget_browser_type()\n\u001b[0;32m    100\u001b[0m unified_version \u001b[39m=\u001b[39m format_version(browser_type, driver_version)\n",
      "File \u001b[1;32mc:\\Python310\\lib\\site-packages\\webdriver_manager\\core\\driver.py:55\u001b[0m, in \u001b[0;36mDriver.get_browser_version\u001b[1;34m(self)\u001b[0m\n\u001b[0;32m     54\u001b[0m \u001b[39mdef\u001b[39;00m \u001b[39mget_browser_version\u001b[39m(\u001b[39mself\u001b[39m):\n\u001b[1;32m---> 55\u001b[0m     \u001b[39mreturn\u001b[39;00m get_browser_version_from_os(\u001b[39mself\u001b[39;49m\u001b[39m.\u001b[39;49mget_browser_type())\n",
      "File \u001b[1;32mc:\\Python310\\lib\\site-packages\\webdriver_manager\\core\\utils.py:220\u001b[0m, in \u001b[0;36mget_browser_version_from_os\u001b[1;34m(browser_type)\u001b[0m\n\u001b[0;32m    218\u001b[0m     cmd_mapping \u001b[39m=\u001b[39m cmd_mapping[browser_type][os_name()]\n\u001b[0;32m    219\u001b[0m     pattern \u001b[39m=\u001b[39m PATTERN[browser_type]\n\u001b[1;32m--> 220\u001b[0m     version \u001b[39m=\u001b[39m read_version_from_cmd(cmd_mapping, pattern)\n\u001b[0;32m    221\u001b[0m     \u001b[39mreturn\u001b[39;00m version\n\u001b[0;32m    222\u001b[0m \u001b[39mexcept\u001b[39;00m \u001b[39mException\u001b[39;00m:\n",
      "File \u001b[1;32mc:\\Python310\\lib\\site-packages\\webdriver_manager\\core\\utils.py:261\u001b[0m, in \u001b[0;36mread_version_from_cmd\u001b[1;34m(cmd, pattern)\u001b[0m\n\u001b[0;32m    253\u001b[0m \u001b[39mdef\u001b[39;00m \u001b[39mread_version_from_cmd\u001b[39m(cmd, pattern):\n\u001b[0;32m    254\u001b[0m     \u001b[39mwith\u001b[39;00m subprocess\u001b[39m.\u001b[39mPopen(\n\u001b[0;32m    255\u001b[0m             cmd,\n\u001b[0;32m    256\u001b[0m             stdout\u001b[39m=\u001b[39msubprocess\u001b[39m.\u001b[39mPIPE,\n\u001b[1;32m   (...)\u001b[0m\n\u001b[0;32m    259\u001b[0m             shell\u001b[39m=\u001b[39m\u001b[39mTrue\u001b[39;00m,\n\u001b[0;32m    260\u001b[0m     ) \u001b[39mas\u001b[39;00m stream:\n\u001b[1;32m--> 261\u001b[0m         stdout \u001b[39m=\u001b[39m stream\u001b[39m.\u001b[39;49mcommunicate()[\u001b[39m0\u001b[39m]\u001b[39m.\u001b[39mdecode()\n\u001b[0;32m    262\u001b[0m         version \u001b[39m=\u001b[39m re\u001b[39m.\u001b[39msearch(pattern, stdout)\n\u001b[0;32m    263\u001b[0m         version \u001b[39m=\u001b[39m version\u001b[39m.\u001b[39mgroup(\u001b[39m0\u001b[39m) \u001b[39mif\u001b[39;00m version \u001b[39melse\u001b[39;00m \u001b[39mNone\u001b[39;00m\n",
      "File \u001b[1;32mc:\\Python310\\lib\\subprocess.py:1136\u001b[0m, in \u001b[0;36mPopen.communicate\u001b[1;34m(self, input, timeout)\u001b[0m\n\u001b[0;32m   1134\u001b[0m     \u001b[39mself\u001b[39m\u001b[39m.\u001b[39m_stdin_write(\u001b[39minput\u001b[39m)\n\u001b[0;32m   1135\u001b[0m \u001b[39melif\u001b[39;00m \u001b[39mself\u001b[39m\u001b[39m.\u001b[39mstdout:\n\u001b[1;32m-> 1136\u001b[0m     stdout \u001b[39m=\u001b[39m \u001b[39mself\u001b[39;49m\u001b[39m.\u001b[39;49mstdout\u001b[39m.\u001b[39;49mread()\n\u001b[0;32m   1137\u001b[0m     \u001b[39mself\u001b[39m\u001b[39m.\u001b[39mstdout\u001b[39m.\u001b[39mclose()\n\u001b[0;32m   1138\u001b[0m \u001b[39melif\u001b[39;00m \u001b[39mself\u001b[39m\u001b[39m.\u001b[39mstderr:\n",
      "\u001b[1;31mKeyboardInterrupt\u001b[0m: "
     ]
    }
   ],
   "source": [
    "driver = webdriver.Chrome(executable_path=ChromeDriverManager().install())\n",
    "url = \"https://lims.minneapolismn.gov/MarkedAgenda/3323\"\n",
    "driver.get(url)\n",
    "li = driver.find_elements(by='css selector', value='li.customLineHeight')\n",
    "for list in li[:9]:\n",
    "    try:\n",
    "        if list.find_element(By.CSS_SELECTOR, 'a').get_attribute('class') == 'hrefnowrap':\n",
    "            link = list.find_element(By.CSS_SELECTOR, 'a.hrefnowrap')\n",
    "            print(link.text)\n",
    "    except (selenium.common.exceptions.NoSuchElementException):\n",
    "        continue\n",
    "driver.quit()"
   ]
  },
  {
   "cell_type": "code",
   "execution_count": 120,
   "metadata": {},
   "outputs": [],
   "source": [
    "driver.quit()\n",
    "# type(member_roles['Elliott Payne'])#.values[0]"
   ]
  },
  {
   "cell_type": "code",
   "execution_count": 175,
   "metadata": {},
   "outputs": [
    {
     "name": "stdout",
     "output_type": "stream",
     "text": [
      "\n"
     ]
    },
    {
     "name": "stderr",
     "output_type": "stream",
     "text": [
      "C:\\Users\\MSI_NB\\AppData\\Local\\Temp\\ipykernel_4308\\2205425221.py:1: DeprecationWarning: executable_path has been deprecated, please pass in a Service object\n",
      "  driver = webdriver.Chrome(executable_path=ChromeDriverManager().install())\n"
     ]
    },
    {
     "name": "stdout",
     "output_type": "stream",
     "text": [
      "We are currently in the website: https://lims.minneapolismn.gov/File/2022-00585\n",
      "The togglet context: Collapse Legislative History\n",
      "Expand Legislative History\n",
      "Approved\n",
      "1.\n",
      "Passage of Ordinance amending Title 14, Chapter 362 of the Minneapolis Code of Ordinances relating to Liquor and Beer: Liquor Licenses, amending the provision to align off-sale malt liquor packaging requirements for brewers with newly-enacted state statute.\n",
      "decision: Approved\n",
      "name: This link open a new window\n",
      "2022-027\n",
      "title: 1.Passage of Ordinance amending Title 14, Chapter 362 of the Minneapolis Code of Ordinances relating to Liquor and Beer: Liquor Licenses, amending the provision to align off-sale malt liquor packaging requirements for brewers with newly-enacted state statute.\n",
      "matter type: Ordinance\n",
      "date parsed!\n",
      "date parsed!\n",
      "date parsed!\n",
      "date parsed!\n",
      "We got the matched vote date: 2022-06-30 00:00:00\n",
      "clicking into the voting tab\n",
      "start finding voters!\n",
      "adding into event_minutes_items!\n",
      "Go out!\n",
      "--------------------------------------------------------------------------------\n",
      "Closing the current tab\n",
      "Switching to the other tab\n",
      "We are currently in the website: https://lims.minneapolismn.gov/File/2022-00559\n",
      "The togglet context: Collapse Legislative History\n",
      "Expand Legislative History\n",
      "Hearing Scheduled\n",
      "1.\n",
      "Setting a public hearing for June 21, 2022, to consider the sale of property at 800 Washington Ave S to 800 Washington Ave, LLC.\n",
      "decision: Hearing Scheduled\n",
      "wrote text content of togglec: 0\n",
      "name: \n",
      "title: 1.Setting a public hearing for June 21, 2022, to consider the sale of property at 800 Washington Ave S to 800 Washington Ave, LLC.\n",
      "date parsed!\n",
      "--------------------------------------------------------------------------------\n",
      "The togglet context: Collapse Legislative History\n",
      "Expand Legislative History\n",
      "Approved\n",
      "2.\n",
      "Passage of Resolution authorizing the sale of the property at 800 Washington Ave S (Disposition Parcel E-Liner to 800 Washington Ave, LLC or an affiliated entity for $3,200,000 for redevelopment, subject to the terms described in the attached term sheet.\n",
      "decision: Approved\n",
      "wrote text content of togglec: 1\n",
      "name: 2022R-177\n",
      "title: 2.Passage of Resolution authorizing the sale of the property at 800 Washington Ave S (Disposition Parcel E-Liner to 800 Washington Ave, LLC or an affiliated entity for $3,200,000 for redevelopment, subject to the terms described in the attached term sheet.\n",
      "date parsed!\n",
      "date parsed!\n",
      "We got the matched vote date: 2022-06-30 00:00:00\n",
      "clicking into the voting tab\n",
      "1 1\n",
      "start finding voters!\n",
      "voter name: Elliott Payne\n",
      "voter name: Robin Wonsley\n",
      "voter name: Michael Rainville\n",
      "voter name: LaTrisha Vetaw\n",
      "voter name: Jeremiah Ellison\n",
      "voter name: Jamal Osman\n",
      "voter name: Lisa Goodman\n",
      "voter name: Andrea Jenkins\n",
      "voter name: Jason Chavez\n",
      "voter name: Aisha Chughtai\n",
      "voter name: Emily Koski\n",
      "voter name: Andrew Johnson\n",
      "voter name: Linea Palmisano\n",
      "adding into event_minutes_items!\n",
      "Go out!\n",
      "--------------------------------------------------------------------------------\n",
      "The togglet context: Collapse Legislative History\n",
      "Expand Legislative History\n",
      "Approved\n",
      "3.\n",
      "Authorizing execution of a redevelopment contract with 800 Washington Ave, LLC or an affiliated entity and related documents/easements in accordance with the attached term sheet.\n",
      "decision: Approved\n",
      "wrote text content of togglec: 2\n",
      "name: 2022A-0474\n",
      "title: 3.Authorizing execution of a redevelopment contract with 800 Washington Ave, LLC or an affiliated entity and related documents/easements in accordance with the attached term sheet.\n",
      "date parsed!\n",
      "date parsed!\n",
      "We got the matched vote date: 2022-06-30 00:00:00\n",
      "clicking into the voting tab\n",
      "2 1\n",
      "start finding voters!\n",
      "voter name: Elliott Payne\n",
      "voter name: Robin Wonsley\n",
      "voter name: Michael Rainville\n",
      "voter name: LaTrisha Vetaw\n",
      "voter name: Jeremiah Ellison\n",
      "voter name: Jamal Osman\n",
      "voter name: Lisa Goodman\n",
      "voter name: Andrea Jenkins\n",
      "voter name: Jason Chavez\n",
      "voter name: Aisha Chughtai\n",
      "voter name: Emily Koski\n",
      "voter name: Andrew Johnson\n",
      "voter name: Linea Palmisano\n",
      "adding into event_minutes_items!\n",
      "Go out!\n",
      "--------------------------------------------------------------------------------\n",
      "Closing the current tab\n",
      "Switching to the other tab\n"
     ]
    }
   ],
   "source": [
    "driver = webdriver.Chrome(executable_path=ChromeDriverManager().install())\n",
    "url = \"https://lims.minneapolismn.gov/MarkedAgenda/3323\"\n",
    "driver.get(url)\n",
    "\n",
    "\n",
    "# Inspecting each minute_item:\n",
    "li = driver.find_elements(by='css selector', value='li.customLineHeight')\n",
    "event_minutes_items = []\n",
    "month_convert = {\n",
    "    'Jan': 'January',\n",
    "    'Feb': 'February',\n",
    "    'Mar': 'March',\n",
    "    'Apr': 'April',\n",
    "    'May': 'May',\n",
    "    'Jun': 'June',\n",
    "    'Jul': 'July',\n",
    "    'Aug': 'August',\n",
    "    'Sep': 'September',\n",
    "    'Oct': 'October',\n",
    "    'Nov': 'November',\n",
    "    'Dec': 'December'\n",
    "}\n",
    "\n",
    "for list in li[:9]:\n",
    "    try:\n",
    "        if list.find_element(By.CSS_SELECTOR, 'a').get_attribute('class') == 'hrefnowrap':\n",
    "            link = list.find_element(By.CSS_SELECTOR, 'a.hrefnowrap')\n",
    "            link.click()\n",
    "            before = driver.window_handles[0]\n",
    "            after = driver.window_handles[1]\n",
    "            driver.switch_to.window(after)\n",
    "            element = WebDriverWait(driver, 2).until(\n",
    "                ec.visibility_of_element_located((By.CSS_SELECTOR, 'body'))\n",
    "            )\n",
    "            print('We are currently in the website: ' + driver.current_url)\n",
    "            togglets = element.find_elements(By.CSS_SELECTOR, '.togglet')\n",
    "            m_sponsors = []\n",
    "            \n",
    "            '''\n",
    "            If toggles are closed go into this for loop!\n",
    "            '''\n",
    "            if len(togglets) > 1:\n",
    "                for i, togglet in enumerate(togglets):\n",
    "                    togglets_new = WebDriverWait(driver, 5).until(\n",
    "                        ec.visibility_of_all_elements_located((By.CSS_SELECTOR, '.togglet'))\n",
    "                    )\n",
    "                    togglet = togglets_new[i]\n",
    "                    \n",
    "                    togglec = togglet.find_element(By.XPATH, \"./following-sibling::div\")\n",
    "                    print('The togglet context: ' + togglet.text)\n",
    "                    m_decision = togglet.find_element(By.CSS_SELECTOR, 'a span.detail_Status')\n",
    "                    print('decision: ' + m_decision.text)\n",
    "                    if m_decision != 'Hearing Scheduled':\n",
    "                        togglet.click()\n",
    "                    print(f\"wrote text content of togglec: {i}\")\n",
    "                    minutes_item = togglec.find_element(By.CSS_SELECTOR, 'a:nth-child(1)')\n",
    "                    support_file = minutes_item.get_attribute('href')\n",
    "                    m_name = minutes_item.text.replace('This link open a new window\\n', '')\n",
    "                    print('name: ' + m_name)\n",
    "                    m_title = togglet.find_element(By.CSS_SELECTOR, '.legisDetails-tog').text.replace('\\n', '')\n",
    "                    print('title: ' + m_title)\n",
    "\n",
    "\n",
    "                    m_type = None\n",
    "                    if 'Effective Date:' in togglec.text:\n",
    "                        rows = togglec.find_elements(By.CSS_SELECTOR, '.row')\n",
    "                        for k, row in enumerate(rows):\n",
    "                            if 'Number' in row.text:\n",
    "                                m_type = row.find_element(By.CSS_SELECTOR, 'h5').text.split(' ')[0]\n",
    "                            elif 'Primary Author:' in row.text:\n",
    "                                m_sponsors.append(row.find_element(By.CSS_SELECTOR, 'span:nth-child(2)').text)\n",
    "                    \n",
    "                    \n",
    "                    table = togglec.find_element(By.CSS_SELECTOR, '.col_full.nobottommargin table')\n",
    "                    m_votes = []\n",
    "                    rows = togglec.find_elements(By.CSS_SELECTOR, 'tbody tr')\n",
    "                    rows = rows[:-1]\n",
    "                    for j, row in enumerate(rows):\n",
    "                        vote_date = row.find_element(By.CSS_SELECTOR, 'td:nth-child(1)').text #.split(' ')\n",
    "                        # print('The date is: ' + vote_date)\n",
    "                        vote_date = vote_date.replace(vote_date[:3], month_convert[vote_date[:3]])\n",
    "                        vote_date = datetime.strptime(vote_date, \"%B %d, %Y\")\n",
    "                        print('date parsed!')\n",
    "                        if (vote_date.year, vote_date.month, vote_date.day) == (dt.year, dt.month, dt.day):\n",
    "                            print('We got the matched vote date: ' + str(vote_date))\n",
    "                            vote_link = row.find_element(By.CSS_SELECTOR, 'td:nth-child(2) a')\n",
    "                            if vote_link.text == 'View Voting':\n",
    "                                vote_link.click()\n",
    "                                print('clicking into the voting tab')\n",
    "                                print(i, j)\n",
    "                                voting_details = WebDriverWait(driver, 3).until(\n",
    "                                    ec.visibility_of_element_located((By.XPATH, f'//*[@id=\"model_{i}_{j}\"]'))\n",
    "                                )\n",
    "\n",
    "                                print('start finding voters!')\n",
    "                                \n",
    "                                voters = voting_details.find_elements(By.CSS_SELECTOR, '.vote-row')\n",
    "                                for voter in voters:\n",
    "                                    voter_name = voter.find_element(By.CSS_SELECTOR, '.vote-cell:nth-child(1)').text\n",
    "                                    print('voter name: ' + voter_name)\n",
    "                                    voter_decision = voter.find_element(By.CSS_SELECTOR, '.vote-cell:nth-child(2)').text\n",
    "                                    voter_is_active = voter_name in city_council.name.tolist()\n",
    "                                    person_info = city_council[city_council['name'] == voter_name]\n",
    "                                    voter_position = person_info['position'].values[0]\n",
    "                                    voter_picture = person_info['picture'].values[0]\n",
    "                                    voter_phone = person_info['phone'].values[0]\n",
    "                                    voter_elec_area = person_info['electoral_area'].values[0]\n",
    "                                    voter_seat_img = person_info['seat_img'].values[0]\n",
    "                                    voter_email = person_info['email'].values[0]\n",
    "                                    voter_role = member_roles[str(voter_name)]#.values[0]\n",
    "                                    m_votes.append(\n",
    "                                        ingestion_models.Vote(\n",
    "                                            person=ingestion_models.Person(\n",
    "                                                name=voter_name,\n",
    "                                                is_active = voter_is_active,\n",
    "                                                seat=ingestion_models.Seat(\n",
    "                                                    name=voter_position,\n",
    "                                                    roles = ingestion_models.Role(voter_role),\n",
    "                                                    electoral_area=voter_elec_area,\n",
    "                                                    image_uri=voter_seat_img\n",
    "                                                ),\n",
    "                                                email=voter_email,\n",
    "                                                phone=voter_phone,\n",
    "                                                picture_uri=voter_picture\n",
    "                                            ),\n",
    "                                            decision = voter_decision\n",
    "                                        )\n",
    "                                    )\n",
    "                                \n",
    "                                print('adding into event_minutes_items!')\n",
    "                                event_minutes_items.append(\n",
    "                                    ingestion_models.EventMinutesItem(\n",
    "                                        minutes_item=ingestion_models.MinutesItem(m_name),\n",
    "                                        matter = ingestion_models.Matter(\n",
    "                                            name = m_name,\n",
    "                                            title = m_title,\n",
    "                                            matter_type=m_type\n",
    "                                        ),\n",
    "                                        decision=m_decision,\n",
    "                                        votes = m_votes,\n",
    "                                        supporting_files=support_file\n",
    "                                    )\n",
    "                                )\n",
    "                                \n",
    "                                close_button = voting_details.find_element(By.XPATH, f'//*[@id=\"model_{str(i)}_{j}\"]/div/div/div/div[1]/button')\n",
    "                                # print('The button shows like: ' + close_button.text)\n",
    "                                close_button.click()\n",
    "                                print('Go out!')\n",
    "                                break\n",
    "                        \n",
    "                    print(\"-\" * 80)\n",
    "            # If toggles are opened, then do the following:\n",
    "            else:      \n",
    "                togglet = element.find_element(By.CSS_SELECTOR, '.togglet')\n",
    "                togglec = togglet.find_element(By.XPATH, \"./following-sibling::div\")\n",
    "                print('The togglet context: ' + togglet.text)\n",
    "                m_decision = togglet.find_element(By.CSS_SELECTOR, 'a span.detail_Status').text\n",
    "                print('decision: ' + m_decision)\n",
    "                minutes_item = togglec.find_element(By.CSS_SELECTOR, 'a:nth-child(1)')\n",
    "                m_name = minutes_item.text.replace('This link open a new window\\n', '')\n",
    "                support_file = minutes_item.get_attribute('href')\n",
    "                print('name: ' + minutes_item.text)\n",
    "                m_title = togglet.find_element(By.CSS_SELECTOR, '.legisDetails-tog').text.replace('\\n', ' ')\n",
    "                print('title: ' + m_title)\n",
    "                \n",
    "                # m_type = ''\n",
    "                \n",
    "                \n",
    "                m_type = None\n",
    "                m_sponsor = None\n",
    "                if 'Effective Date:' in togglec.text:\n",
    "                    rows = togglec.find_elements(By.CSS_SELECTOR, '.row')\n",
    "                    for k, row in enumerate(rows):\n",
    "                        if 'Number' in row.text:\n",
    "                            m_type = row.find_element(By.CSS_SELECTOR, 'h5').text.split(' ')[0]\n",
    "                        elif 'Primary Author:' in row.text:\n",
    "                            m_sponsors.append(row.find_element(By.CSS_SELECTOR, 'span:nth-child(2)').text)\n",
    "                # if 'Effective Date:' in togglec.text:\n",
    "                #     h5s = togglec.find_elements(By.CSS_SELECTOR, 'h5')\n",
    "                #     for h5 in h5s:\n",
    "                #         if ('Number' in h5.text):\n",
    "                #             m_type = h5.text.split(' ')[0]\n",
    "                \n",
    "                \n",
    "                print('matter type: ' + m_type)\n",
    "                table = togglec.find_element(By.CSS_SELECTOR, '.col_full.nobottommargin table')\n",
    "                m_votes = []\n",
    "                rows = togglec.find_elements(By.CSS_SELECTOR, 'tbody tr')\n",
    "                rows = rows[:-1]\n",
    "                for j, row in enumerate(rows):\n",
    "                    vote_date = row.find_element(By.CSS_SELECTOR, 'td:nth-child(1)').text #.split(' ')\n",
    "                    # print('The date is: ' + vote_date)\n",
    "                    vote_date = vote_date.replace(vote_date[:3], month_convert[vote_date[:3]])\n",
    "                    vote_date = datetime.strptime(vote_date, \"%B %d, %Y\")\n",
    "                    print('date parsed!')\n",
    "                    if (vote_date.year, vote_date.month, vote_date.day) == (dt.year, dt.month, dt.day):\n",
    "                        print('We got the matched vote date: ' + str(vote_date))\n",
    "                        vote_link = row.find_element(By.CSS_SELECTOR, 'td:nth-child(2) a')\n",
    "                        if vote_link.text == 'View Voting':\n",
    "                            vote_link.click()\n",
    "                            print('clicking into the voting tab')\n",
    "                            voting_details = WebDriverWait(driver, 5).until(\n",
    "                                ec.visibility_of_element_located((By.XPATH, f'//*[@id=\"model_0_{j}\"]'))\n",
    "                            )\n",
    "\n",
    "                            print('start finding voters!')\n",
    "                                \n",
    "                            voters = voting_details.find_elements(By.CSS_SELECTOR, '.vote-row')\n",
    "                            for voter in voters:\n",
    "                                voter_name = voter.find_element(By.CSS_SELECTOR, '.vote-cell:nth-child(1)').text\n",
    "                                # print('voter name: ' + voter_name)\n",
    "                                voter_decision = voter.find_element(By.CSS_SELECTOR, '.vote-cell:nth-child(2)').text\n",
    "                                voter_is_active = voter_name in city_council.name.tolist()\n",
    "                                person_info = city_council[city_council['name'] == voter_name]\n",
    "                                voter_position = person_info['position'].values[0]\n",
    "                                voter_picture = person_info['picture'].values[0]\n",
    "                                voter_phone = person_info['phone'].values[0]\n",
    "                                voter_elec_area = person_info['electoral_area'].values[0]\n",
    "                                voter_seat_img = person_info['seat_img'].values[0]\n",
    "                                voter_email = person_info['email'].values[0]\n",
    "                                voter_role = member_roles[str(voter_name)]#.values[0]\n",
    "                                m_votes.append(\n",
    "                                    ingestion_models.Vote(\n",
    "                                        person=ingestion_models.Person(\n",
    "                                            name=voter_name,\n",
    "                                            is_active = voter_is_active,\n",
    "                                            seat=ingestion_models.Seat(\n",
    "                                                name=voter_position,\n",
    "                                                roles = ingestion_models.Role(voter_role),\n",
    "                                                electoral_area=voter_elec_area,\n",
    "                                                image_uri=voter_seat_img\n",
    "                                            ),\n",
    "                                            email=voter_email,\n",
    "                                            phone=voter_phone,\n",
    "                                            picture_uri=voter_picture\n",
    "                                        ),\n",
    "                                        decision = voter_decision\n",
    "                                    )\n",
    "                                )\n",
    "                            \n",
    "                            print('adding into event_minutes_items!')\n",
    "                            event_minutes_items.append(\n",
    "                                ingestion_models.EventMinutesItem(\n",
    "                                    minutes_item=ingestion_models.MinutesItem(m_name),\n",
    "                                    matter = ingestion_models.Matter(\n",
    "                                        name = m_name,\n",
    "                                        title = m_title,\n",
    "                                        matter_type=m_type,\n",
    "                                        sponsors=m_sponsors\n",
    "                                    ),\n",
    "                                    decision=m_decision,\n",
    "                                    votes = m_votes,\n",
    "                                    supporting_files=support_file\n",
    "                                )\n",
    "                            )\n",
    "                            \n",
    "                            close_button = voting_details.find_element(By.XPATH, f'//*[@id=\"model_0_{j}\"]/div/div/div/div[1]/button')\n",
    "                            # print('The button shows like: ' + close_button.text)\n",
    "                            close_button.click()\n",
    "                            print('Go out!')\n",
    "                            break\n",
    "                print(\"-\" * 80)\n",
    "            \n",
    "                       \n",
    "            # raise(ArithmeticError)       \n",
    "                    \n",
    "            driver.close()\n",
    "            print('Closing the current tab')\n",
    "            driver.switch_to.window(before)\n",
    "            print('Switching to the other tab')\n",
    "            \n",
    "        else:\n",
    "            try:\n",
    "                model = ingestion_models.EventMinutesItem(\n",
    "                    minutes_item = ingestion_models.MinutesItem(\n",
    "                        list.find_element(by='css selector', value='.custom-rcaview-action-review').text\n",
    "                    ),\n",
    "                    decision = list.find_element(by='css selector', value='.col-md-12 b').text.replace('Action Taken: ', '')\n",
    "                )\n",
    "                event_minutes_items.append(model)\n",
    "            except (selenium.common.exceptions.NoSuchElementException):\n",
    "                continue\n",
    "    except (selenium.common.exceptions.NoSuchElementException):\n",
    "        continue\n",
    "driver.quit()"
   ]
  },
  {
   "cell_type": "code",
   "execution_count": 180,
   "metadata": {},
   "outputs": [
    {
     "data": {
      "text/plain": [
       "EventMinutesItem(minutes_item=MinutesItem(name='2022-027', description=None, external_source_id=None), index=None, matter=Matter(name='2022-027', matter_type='Ordinance', title='1.Passage of Ordinance amending Title 14, Chapter 362 of the Minneapolis Code of Ordinances relating to Liquor and Beer: Liquor Licenses, amending the provision to align off-sale malt liquor packaging requirements for brewers with newly-enacted state statute.', result_status=None, sponsors=['Council Member Goodman'], external_source_id=None), supporting_files='https://lims.minneapolismn.gov/Download/MetaData/26770/2022-027_Id_26770.pdf', decision='Approved', votes=[Vote(person=Person(name='Elliott Payne', is_active=True, router_string=None, email='Ward1@minneapolismn.gov', phone='612-673-2201', website=None, picture_uri='https://www.minneapolismn.gov/media/-www-content-assets/images/Ward-1-Elliott-Payne.jpg', seat=Seat(name='Ward 1', electoral_area=['Audubon Park', 'Columbia Park', 'Como', 'Holland', 'Logan Park', 'Marshall Terrace', 'Mid-City Industrial', 'Northeast Park', 'Waite Park', 'Windom Park'], electoral_type=None, image_uri='https://www.minneapolismn.gov/media/-www-content-assets/images/Minneapolis-Ward1-Map.png', external_source_id=None, roles=Role(title='Council Member', body=None, start_datetime=None, end_datetime=None, external_source_id=None)), external_source_id=None), decision='Aye', external_source_id=None), Vote(person=Person(name='Robin Wonsley', is_active=True, router_string=None, email='Ward2@minneapolismn.gov', phone='612-673-2202', website=None, picture_uri='https://www.minneapolismn.gov/media/-www-content-assets/images/Ward-2-Robin-Wonsley.jpg', seat=Seat(name='Ward 2', electoral_area=['SE Como', 'Cooper', 'Prospect Park', 'Seward', 'West Bank/Cedar-Riverside', 'Longfellow', 'University District'], electoral_type=None, image_uri='https://www.minneapolismn.gov/media/-www-content-assets/images/Minneapolis-Ward2-Map.png', external_source_id=None, roles=Role(title='Council Member', body=None, start_datetime=None, end_datetime=None, external_source_id=None)), external_source_id=None), decision='Aye', external_source_id=None), Vote(person=Person(name='Michael Rainville', is_active=True, router_string=None, email='Ward3@minneapolismn.gov', phone='612-673-2203', website=None, picture_uri='https://www.minneapolismn.gov/media/-www-content-assets/images/Ward-3-Michael-Rainville.jpg', seat=Seat(name='Ward 3', electoral_area=['Beltrami', 'Bottineau', 'Downtown East', 'Downtown West', 'Marcy Holmes', 'Nicollet Island-East Bank', 'North Loop', 'Sheridan', 'St. Anthony East', 'St. Anthony West'], electoral_type=None, image_uri='https://www.minneapolismn.gov/media/-www-content-assets/images/Minneapolis-Ward3-Map.png', external_source_id=None, roles=Role(title='Council Member', body=None, start_datetime=None, end_datetime=None, external_source_id=None)), external_source_id=None), decision='Aye', external_source_id=None), Vote(person=Person(name='LaTrisha Vetaw', is_active=True, router_string=None, email='ward4@minneapolismn.gov', phone='612-673-2204', website=None, picture_uri='https://www.minneapolismn.gov/media/-www-content-assets/images/Ward-4-LaTrisha-Vetaw.jpg', seat=Seat(name='Ward 4', electoral_area=['Cleveland', 'Folwell', 'Jordan', 'Lind-Bohanon', 'McKinley', 'Shingle Creek', 'Victory', 'Webber-Camden', 'Camden Industrial Area', 'Humboldt Industrial Area'], electoral_type=None, image_uri='https://www.minneapolismn.gov/media/-www-content-assets/images/Minneapolis-Ward4-Map.png', external_source_id=None, roles=Role(title='Council Member', body=None, start_datetime=None, end_datetime=None, external_source_id=None)), external_source_id=None), decision='Aye', external_source_id=None), Vote(person=Person(name='Jeremiah Ellison', is_active=True, router_string=None, email='ward5@minneapolismn.gov', phone='612-673-2205', website=None, picture_uri='https://www.minneapolismn.gov/media/-www-content-assets/images/Ward-5-Jeremiah-Ellison.jpg', seat=Seat(name='Ward 5', electoral_area=['Harrison', 'Hawthorne', 'Jordan', 'Near North', 'North Loop', 'Sumner-Glenwood', 'Willard-Hay'], electoral_type=None, image_uri='https://www.minneapolismn.gov/media/-www-content-assets/images/Minneapolis-Ward5-Map.png', external_source_id=None, roles=Role(title='Council Member', body=None, start_datetime=None, end_datetime=None, external_source_id=None)), external_source_id=None), decision='Aye', external_source_id=None), Vote(person=Person(name='Jamal Osman', is_active=True, router_string=None, email='jamal.osman@minneapolismn.gov', phone='612-673-2206', website=None, picture_uri='https://www.minneapolismn.gov/media/-www-content-assets/images/Ward-6-Jamal-Osman.jpg', seat=Seat(name='Ward 6', electoral_area=['Cedar Riverside', 'Elliot Park', 'Philips West', 'Seward', 'Steven Square-Loring Heights', 'Ventura Village'], electoral_type=None, image_uri='https://www.minneapolismn.gov/media/-www-content-assets/images/Minneapolis-Ward6-Map.png', external_source_id=None, roles=Role(title='Council Member', body=None, start_datetime=None, end_datetime=None, external_source_id=None)), external_source_id=None), decision='Aye', external_source_id=None), Vote(person=Person(name='Lisa Goodman', is_active=True, router_string=None, email=None, phone='612-673-2207', website=None, picture_uri='https://www.minneapolismn.gov/media/-www-content-assets/images/Ward-7-Lisa-Goodman.jpg', seat=Seat(name='Ward 7', electoral_area=['Bryn-Mawr', 'Cedar-Isles-Dean', 'Downtown West', 'East Isles', 'Elliot Park', 'Kenwood', 'Loring Park', 'Lowry Hill', 'Steven Square-Loring Heights'], electoral_type=None, image_uri='https://www.minneapolismn.gov/media/-www-content-assets/images/Minneapolis-Ward7-Map.png', external_source_id=None, roles=Role(title='Council Member', body=None, start_datetime=None, end_datetime=None, external_source_id=None)), external_source_id=None), decision='Aye', external_source_id=None), Vote(person=Person(name='Andrea Jenkins', is_active=True, router_string=None, email='andrea.jenkins@minneapolismn.gov', phone='612-673-2208', website=None, picture_uri='https://www.minneapolismn.gov/media/-www-content-assets/images/Ward-8-Andrea-Jenkins.jpg', seat=Seat(name='Ward 8', electoral_area=['Bancroft', 'Bryant', 'Central', 'Field', 'Kingfield', 'Lyndale', 'Northrop', 'Regina'], electoral_type=None, image_uri='https://www.minneapolismn.gov/media/-www-content-assets/images/Minneapolis-Ward8-Map.png', external_source_id=None, roles=Role(title='Council President', body=None, start_datetime=None, end_datetime=None, external_source_id=None)), external_source_id=None), decision='Aye', external_source_id=None), Vote(person=Person(name='Jason Chavez', is_active=True, router_string=None, email='jason.chavez@minneapolismn.gov', phone='612-673-2209', website=None, picture_uri='https://www.minneapolismn.gov/media/-www-content-assets/images/Ward-9-Jason-Chavez.jpg', seat=Seat(name='Ward 9', electoral_area=['Neighborhoods', 'Central', 'Corcoran', 'East Phillips', 'Longfellow', 'Midtown Phillips', 'Powderhorn Park'], electoral_type=None, image_uri='https://www.minneapolismn.gov/media/-www-content-assets/images/Minneapolis-Ward9-Map.png', external_source_id=None, roles=Role(title='Council Member', body=None, start_datetime=None, end_datetime=None, external_source_id=None)), external_source_id=None), decision='Aye', external_source_id=None), Vote(person=Person(name='Aisha Chughtai', is_active=True, router_string=None, email='ward10@minneapolismn.gov', phone='612-673-2210', website=None, picture_uri='https://www.minneapolismn.gov/media/-www-content-assets/images/Ward-10-Aisha-Chughtai.jpg', seat=Seat(name='Ward 10', electoral_area=['East Bde Maka Ska', 'East Harriet', 'Lowry Hill East', 'South Uptown', 'Whittier'], electoral_type=None, image_uri='https://www.minneapolismn.gov/media/-www-content-assets/images/Minneapolis-Ward10-Map.png', external_source_id=None, roles=Role(title='Council Member', body=None, start_datetime=None, end_datetime=None, external_source_id=None)), external_source_id=None), decision='Aye', external_source_id=None), Vote(person=Person(name='Emily Koski', is_active=True, router_string=None, email='ward11@minneapolismn.gov', phone='612-673-2211', website=None, picture_uri='https://www.minneapolismn.gov/media/-www-content-assets/images/Ward-11-Emily-Koski.jpg', seat=Seat(name='Ward 11', electoral_area=['Diamond Lake', 'Hale', 'Keewaydin', 'Page', 'Northrop', 'Tangletown', 'Wenonah', 'Windom'], electoral_type=None, image_uri='https://www.minneapolismn.gov/media/-www-content-assets/images/Minneapolis-Ward11-Map.png', external_source_id=None, roles=Role(title='Council Member', body=None, start_datetime=None, end_datetime=None, external_source_id=None)), external_source_id=None), decision='Aye', external_source_id=None), Vote(person=Person(name='Andrew Johnson', is_active=True, router_string=None, email='andrew.johnson@minneapolismn.gov', phone='612-673-2212', website=None, picture_uri='https://www.minneapolismn.gov/media/-www-content-assets/images/Ward-12-Andrew-Johnson.jpg', seat=Seat(name='Ward 12', electoral_area=['Ericsson', 'Hiawatha', 'Howe', 'Keewaydin', 'Minnehaha', 'Morris Park', 'Standish'], electoral_type=None, image_uri='https://www.minneapolismn.gov/media/-www-content-assets/images/Minneapolis-Ward12-Map.png', external_source_id=None, roles=Role(title='Council Member', body=None, start_datetime=None, end_datetime=None, external_source_id=None)), external_source_id=None), decision='Aye', external_source_id=None), Vote(person=Person(name='Linea Palmisano', is_active=True, router_string=None, email='linea.palmisano@minneapolismn.gov', phone='612-673-2213', website=None, picture_uri='https://www.minneapolismn.gov/media/-www-content-assets/images/Ward-13-Linea-Palmisano.jpg', seat=Seat(name='Ward 13', electoral_area=['Armatage', 'East Harriet Farmstead', 'Fulton', 'Kenny', 'Linden Hills', 'Lynnhurst', 'West Maka Ska'], electoral_type=None, image_uri='https://www.minneapolismn.gov/media/-www-content-assets/images/Minneapolis-Ward13-Map.png', external_source_id=None, roles=Role(title='Council Vice-President', body=None, start_datetime=None, end_datetime=None, external_source_id=None)), external_source_id=None), decision='Aye', external_source_id=None)])"
      ]
     },
     "execution_count": 180,
     "metadata": {},
     "output_type": "execute_result"
    }
   ],
   "source": [
    "len(event_minutes_items)\n",
    "event_minutes_items[3]\n",
    "# person phone num and email\n",
    "# person picture\n",
    "# Seat type\n",
    "# Seat.electoral_area\n",
    "# Seat.image_uri"
   ]
  },
  {
   "cell_type": "code",
   "execution_count": 88,
   "metadata": {},
   "outputs": [
    {
     "data": {
      "text/plain": [
       "pandas.core.series.Series"
      ]
     },
     "execution_count": 88,
     "metadata": {},
     "output_type": "execute_result"
    }
   ],
   "source": [
    "type(city_council.name)"
   ]
  },
  {
   "cell_type": "code",
   "execution_count": null,
   "metadata": {},
   "outputs": [],
   "source": [
    "driver = webdriver.Chrome(executable_path=ChromeDriverManager().install())\n",
    "driver.get('https://lims.minneapolismn.gov/File/2022-00559')\n",
    "\n"
   ]
  }
 ],
 "metadata": {
  "kernelspec": {
   "display_name": "Python 3.10.4 64-bit",
   "language": "python",
   "name": "python3"
  },
  "language_info": {
   "codemirror_mode": {
    "name": "ipython",
    "version": 3
   },
   "file_extension": ".py",
   "mimetype": "text/x-python",
   "name": "python",
   "nbconvert_exporter": "python",
   "pygments_lexer": "ipython3",
   "version": "3.10.4"
  },
  "orig_nbformat": 4,
  "vscode": {
   "interpreter": {
    "hash": "369f2c481f4da34e4445cda3fffd2e751bd1c4d706f27375911949ba6bb62e1c"
   }
  }
 },
 "nbformat": 4,
 "nbformat_minor": 2
}
