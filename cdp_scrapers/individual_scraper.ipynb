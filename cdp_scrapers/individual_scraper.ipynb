{
 "cells": [
  {
   "cell_type": "code",
   "execution_count": 111,
   "metadata": {},
   "outputs": [
    {
     "name": "stdout",
     "output_type": "stream",
     "text": [
      "\n"
     ]
    },
    {
     "name": "stderr",
     "output_type": "stream",
     "text": [
      "C:\\Users\\MSI_NB\\AppData\\Local\\Temp\\ipykernel_25596\\4143411418.py:1: DeprecationWarning: executable_path has been deprecated, please pass in a Service object\n",
      "  driver = webdriver.Chrome(executable_path=ChromeDriverManager().install())\n"
     ]
    }
   ],
   "source": [
    "driver = webdriver.Chrome(executable_path=ChromeDriverManager().install())\n",
    "url = \"https://lims.minneapolismn.gov/MarkedAgenda/3323\"\n",
    "driver.get(url)"
   ]
  },
  {
   "cell_type": "code",
   "execution_count": 128,
   "metadata": {},
   "outputs": [],
   "source": [
    "from selenium.webdriver.common.keys import Keys\n",
    "# import time\n",
    "from webdriver_manager.chrome import ChromeDriverManager\n",
    "from selenium import webdriver\n",
    "import selenium\n",
    "from cdp_backend.pipeline import ingestion_models\n",
    "from datetime import datetime"
   ]
  },
  {
   "cell_type": "code",
   "execution_count": 156,
   "metadata": {},
   "outputs": [
    {
     "ename": "NoSuchElementException",
     "evalue": "Message: no such element: Unable to locate element: {\"method\":\"css selector\",\"selector\":\"#existing-ytvideo-iframe\"}\n  (Session info: chrome=103.0.5060.134)\nStacktrace:\nBacktrace:\n\tOrdinal0 [0x01045FD3+2187219]\n\tOrdinal0 [0x00FDE6D1+1763025]\n\tOrdinal0 [0x00EF3E78+802424]\n\tOrdinal0 [0x00F21C10+990224]\n\tOrdinal0 [0x00F21EAB+990891]\n\tOrdinal0 [0x00F4EC92+1174674]\n\tOrdinal0 [0x00F3CBD4+1100756]\n\tOrdinal0 [0x00F4CFC2+1167298]\n\tOrdinal0 [0x00F3C9A6+1100198]\n\tOrdinal0 [0x00F16F80+946048]\n\tOrdinal0 [0x00F17E76+949878]\n\tGetHandleVerifier [0x012E90C2+2721218]\n\tGetHandleVerifier [0x012DAAF0+2662384]\n\tGetHandleVerifier [0x010D137A+526458]\n\tGetHandleVerifier [0x010D0416+522518]\n\tOrdinal0 [0x00FE4EAB+1789611]\n\tOrdinal0 [0x00FE97A8+1808296]\n\tOrdinal0 [0x00FE9895+1808533]\n\tOrdinal0 [0x00FF26C1+1844929]\n\tBaseThreadInitThunk [0x7627FA29+25]\n\tRtlGetAppContainerNamedObjectPath [0x77947A9E+286]\n\tRtlGetAppContainerNamedObjectPath [0x77947A6E+238]\n",
     "output_type": "error",
     "traceback": [
      "\u001b[1;31m---------------------------------------------------------------------------\u001b[0m",
      "\u001b[1;31mNoSuchElementException\u001b[0m                    Traceback (most recent call last)",
      "\u001b[1;32mc:\\Users\\MSI_NB\\Desktop\\Academics\\CDP\\cdp-scrapers\\cdp_scrapers\\individual_scraper.ipynb Cell 3\u001b[0m in \u001b[0;36m<cell line: 17>\u001b[1;34m()\u001b[0m\n\u001b[0;32m     <a href='vscode-notebook-cell:/c%3A/Users/MSI_NB/Desktop/Academics/CDP/cdp-scrapers/cdp_scrapers/individual_scraper.ipynb#ch0000008?line=13'>14</a>\u001b[0m video_link \u001b[39m=\u001b[39m driver\u001b[39m.\u001b[39mfind_element(by\u001b[39m=\u001b[39m\u001b[39m'\u001b[39m\u001b[39mid\u001b[39m\u001b[39m'\u001b[39m, value\u001b[39m=\u001b[39m\u001b[39m'\u001b[39m\u001b[39mVideoIcon_0_0\u001b[39m\u001b[39m'\u001b[39m)\n\u001b[0;32m     <a href='vscode-notebook-cell:/c%3A/Users/MSI_NB/Desktop/Academics/CDP/cdp-scrapers/cdp_scrapers/individual_scraper.ipynb#ch0000008?line=14'>15</a>\u001b[0m video_link\u001b[39m.\u001b[39mclick()\n\u001b[0;32m     <a href='vscode-notebook-cell:/c%3A/Users/MSI_NB/Desktop/Academics/CDP/cdp-scrapers/cdp_scrapers/individual_scraper.ipynb#ch0000008?line=16'>17</a>\u001b[0m sessions\u001b[39m.\u001b[39mappend(\n\u001b[0;32m     <a href='vscode-notebook-cell:/c%3A/Users/MSI_NB/Desktop/Academics/CDP/cdp-scrapers/cdp_scrapers/individual_scraper.ipynb#ch0000008?line=17'>18</a>\u001b[0m     ingestion_models\u001b[39m.\u001b[39mSession(\n\u001b[0;32m     <a href='vscode-notebook-cell:/c%3A/Users/MSI_NB/Desktop/Academics/CDP/cdp-scrapers/cdp_scrapers/individual_scraper.ipynb#ch0000008?line=18'>19</a>\u001b[0m         \u001b[39m# Get Video Link:\u001b[39;00m\n\u001b[1;32m---> <a href='vscode-notebook-cell:/c%3A/Users/MSI_NB/Desktop/Academics/CDP/cdp-scrapers/cdp_scrapers/individual_scraper.ipynb#ch0000008?line=19'>20</a>\u001b[0m         video_uri\u001b[39m=\u001b[39mdriver\u001b[39m.\u001b[39;49mfind_element(by\u001b[39m=\u001b[39;49m\u001b[39m'\u001b[39;49m\u001b[39mcss selector\u001b[39;49m\u001b[39m'\u001b[39;49m, value\u001b[39m=\u001b[39;49m\u001b[39m'\u001b[39;49m\u001b[39m#existing-ytvideo-iframe\u001b[39;49m\u001b[39m'\u001b[39;49m)\u001b[39m.\u001b[39mget_attribute(\u001b[39m'\u001b[39m\u001b[39msrc\u001b[39m\u001b[39m'\u001b[39m),\n\u001b[0;32m     <a href='vscode-notebook-cell:/c%3A/Users/MSI_NB/Desktop/Academics/CDP/cdp-scrapers/cdp_scrapers/individual_scraper.ipynb#ch0000008?line=20'>21</a>\u001b[0m         session_index\u001b[39m=\u001b[39m\u001b[39m0\u001b[39m,\n\u001b[0;32m     <a href='vscode-notebook-cell:/c%3A/Users/MSI_NB/Desktop/Academics/CDP/cdp-scrapers/cdp_scrapers/individual_scraper.ipynb#ch0000008?line=21'>22</a>\u001b[0m         session_datetime\u001b[39m=\u001b[39mdt\n\u001b[0;32m     <a href='vscode-notebook-cell:/c%3A/Users/MSI_NB/Desktop/Academics/CDP/cdp-scrapers/cdp_scrapers/individual_scraper.ipynb#ch0000008?line=22'>23</a>\u001b[0m     )\n\u001b[0;32m     <a href='vscode-notebook-cell:/c%3A/Users/MSI_NB/Desktop/Academics/CDP/cdp-scrapers/cdp_scrapers/individual_scraper.ipynb#ch0000008?line=23'>24</a>\u001b[0m )\n",
      "File \u001b[1;32mc:\\Python310\\lib\\site-packages\\selenium\\webdriver\\remote\\webdriver.py:857\u001b[0m, in \u001b[0;36mWebDriver.find_element\u001b[1;34m(self, by, value)\u001b[0m\n\u001b[0;32m    854\u001b[0m     by \u001b[39m=\u001b[39m By\u001b[39m.\u001b[39mCSS_SELECTOR\n\u001b[0;32m    855\u001b[0m     value \u001b[39m=\u001b[39m \u001b[39m'\u001b[39m\u001b[39m[name=\u001b[39m\u001b[39m\"\u001b[39m\u001b[39m%s\u001b[39;00m\u001b[39m\"\u001b[39m\u001b[39m]\u001b[39m\u001b[39m'\u001b[39m \u001b[39m%\u001b[39m value\n\u001b[1;32m--> 857\u001b[0m \u001b[39mreturn\u001b[39;00m \u001b[39mself\u001b[39;49m\u001b[39m.\u001b[39;49mexecute(Command\u001b[39m.\u001b[39;49mFIND_ELEMENT, {\n\u001b[0;32m    858\u001b[0m     \u001b[39m'\u001b[39;49m\u001b[39musing\u001b[39;49m\u001b[39m'\u001b[39;49m: by,\n\u001b[0;32m    859\u001b[0m     \u001b[39m'\u001b[39;49m\u001b[39mvalue\u001b[39;49m\u001b[39m'\u001b[39;49m: value})[\u001b[39m'\u001b[39m\u001b[39mvalue\u001b[39m\u001b[39m'\u001b[39m]\n",
      "File \u001b[1;32mc:\\Python310\\lib\\site-packages\\selenium\\webdriver\\remote\\webdriver.py:435\u001b[0m, in \u001b[0;36mWebDriver.execute\u001b[1;34m(self, driver_command, params)\u001b[0m\n\u001b[0;32m    433\u001b[0m response \u001b[39m=\u001b[39m \u001b[39mself\u001b[39m\u001b[39m.\u001b[39mcommand_executor\u001b[39m.\u001b[39mexecute(driver_command, params)\n\u001b[0;32m    434\u001b[0m \u001b[39mif\u001b[39;00m response:\n\u001b[1;32m--> 435\u001b[0m     \u001b[39mself\u001b[39;49m\u001b[39m.\u001b[39;49merror_handler\u001b[39m.\u001b[39;49mcheck_response(response)\n\u001b[0;32m    436\u001b[0m     response[\u001b[39m'\u001b[39m\u001b[39mvalue\u001b[39m\u001b[39m'\u001b[39m] \u001b[39m=\u001b[39m \u001b[39mself\u001b[39m\u001b[39m.\u001b[39m_unwrap_value(\n\u001b[0;32m    437\u001b[0m         response\u001b[39m.\u001b[39mget(\u001b[39m'\u001b[39m\u001b[39mvalue\u001b[39m\u001b[39m'\u001b[39m, \u001b[39mNone\u001b[39;00m))\n\u001b[0;32m    438\u001b[0m     \u001b[39mreturn\u001b[39;00m response\n",
      "File \u001b[1;32mc:\\Python310\\lib\\site-packages\\selenium\\webdriver\\remote\\errorhandler.py:247\u001b[0m, in \u001b[0;36mErrorHandler.check_response\u001b[1;34m(self, response)\u001b[0m\n\u001b[0;32m    245\u001b[0m         alert_text \u001b[39m=\u001b[39m value[\u001b[39m'\u001b[39m\u001b[39malert\u001b[39m\u001b[39m'\u001b[39m]\u001b[39m.\u001b[39mget(\u001b[39m'\u001b[39m\u001b[39mtext\u001b[39m\u001b[39m'\u001b[39m)\n\u001b[0;32m    246\u001b[0m     \u001b[39mraise\u001b[39;00m exception_class(message, screen, stacktrace, alert_text)  \u001b[39m# type: ignore[call-arg]  # mypy is not smart enough here\u001b[39;00m\n\u001b[1;32m--> 247\u001b[0m \u001b[39mraise\u001b[39;00m exception_class(message, screen, stacktrace)\n",
      "\u001b[1;31mNoSuchElementException\u001b[0m: Message: no such element: Unable to locate element: {\"method\":\"css selector\",\"selector\":\"#existing-ytvideo-iframe\"}\n  (Session info: chrome=103.0.5060.134)\nStacktrace:\nBacktrace:\n\tOrdinal0 [0x01045FD3+2187219]\n\tOrdinal0 [0x00FDE6D1+1763025]\n\tOrdinal0 [0x00EF3E78+802424]\n\tOrdinal0 [0x00F21C10+990224]\n\tOrdinal0 [0x00F21EAB+990891]\n\tOrdinal0 [0x00F4EC92+1174674]\n\tOrdinal0 [0x00F3CBD4+1100756]\n\tOrdinal0 [0x00F4CFC2+1167298]\n\tOrdinal0 [0x00F3C9A6+1100198]\n\tOrdinal0 [0x00F16F80+946048]\n\tOrdinal0 [0x00F17E76+949878]\n\tGetHandleVerifier [0x012E90C2+2721218]\n\tGetHandleVerifier [0x012DAAF0+2662384]\n\tGetHandleVerifier [0x010D137A+526458]\n\tGetHandleVerifier [0x010D0416+522518]\n\tOrdinal0 [0x00FE4EAB+1789611]\n\tOrdinal0 [0x00FE97A8+1808296]\n\tOrdinal0 [0x00FE9895+1808533]\n\tOrdinal0 [0x00FF26C1+1844929]\n\tBaseThreadInitThunk [0x7627FA29+25]\n\tRtlGetAppContainerNamedObjectPath [0x77947A9E+286]\n\tRtlGetAppContainerNamedObjectPath [0x77947A6E+238]\n"
     ]
    }
   ],
   "source": [
    "sessions = []\n",
    "\n",
    "# Get Datetime:\n",
    "dt = driver.find_element(by='css selector', value='.agendaHeader .col-md-12:nth-child(3)').text \\\n",
    "    .replace(',', '').replace('- ', '').split(' ')\n",
    "month, day, year, time, ampm = dt\n",
    "hour, minute = time.split(':')\n",
    "hour, minute = int(hour), int(minute)\n",
    "hour, minute\n",
    "if ampm == 'pm':\n",
    "    hour += 12\n",
    "dt = datetime(int(year), datetime.strptime(month, \"%B\").month, int(day), hour, minute)\n",
    "\n",
    "video_link = driver.find_element(by='id', value='VideoIcon_0_0')\n",
    "video_link.click()\n",
    "\n",
    "sessions.append(\n",
    "    ingestion_models.Session(\n",
    "        # Get Video Link:\n",
    "        video_uri=driver.find_element(by='css selector', value='#existing-ytvideo-iframe').get_attribute('src'),\n",
    "        session_index=0,\n",
    "        session_datetime=dt\n",
    "    )\n",
    ")"
   ]
  },
  {
   "cell_type": "code",
   "execution_count": 153,
   "metadata": {},
   "outputs": [
    {
     "data": {
      "text/plain": [
       "datetime.datetime(2022, 6, 30, 9, 30)"
      ]
     },
     "execution_count": 153,
     "metadata": {},
     "output_type": "execute_result"
    }
   ],
   "source": [
    "dt = driver.find_element(by='css selector', value='.agendaHeader .col-md-12:nth-child(3)').text \\\n",
    "    .replace(',', '').replace('- ', '').split(' ')\n",
    "month, day, year, time, ampm = dt\n",
    "hour, minute = time.split(':')\n",
    "hour, minute = int(hour), int(minute)\n",
    "hour, minute\n",
    "if ampm == 'pm':\n",
    "    hour += 12\n",
    "dt = datetime(int(year), datetime.strptime(month, \"%B\").month, int(day), hour, minute)"
   ]
  },
  {
   "cell_type": "code",
   "execution_count": 122,
   "metadata": {},
   "outputs": [
    {
     "name": "stdout",
     "output_type": "stream",
     "text": [
      "<class 'NoneType'>\n",
      "<class 'NoneType'>\n"
     ]
    },
    {
     "data": {
      "text/plain": [
       "[EventMinutesItem(minutes_item=MinutesItem(name='Adoption of the agenda.', description=None, external_source_id=None), index=None, matter=None, supporting_files=None, decision='Adopted as amended', votes=None),\n",
       " EventMinutesItem(minutes_item=MinutesItem(name='Acceptance of minutes\\nRegular Meeting of June 16, 2022', description=None, external_source_id=None), index=None, matter=None, supporting_files=None, decision='Accepted', votes=None),\n",
       " EventMinutesItem(minutes_item=MinutesItem(name='Referral of petitions, communications, and reports to the proper Committees.', description=None, external_source_id=None), index=None, matter=None, supporting_files=None, decision='Referred', votes=None)]"
      ]
     },
     "execution_count": 122,
     "metadata": {},
     "output_type": "execute_result"
    }
   ],
   "source": [
    "# Inspecting each minute_item:\n",
    "li = driver.find_elements(by='css selector', value='li.customLineHeight')\n",
    "event_minutes_items = []\n",
    "for list in li[:7]:\n",
    "    try:\n",
    "        if list.find_element(by='css selector', value='a').get_attribute('class') == 'hrefnowrap':\n",
    "            link = list.find_element(by='css selector', value='.hrefnowrap')#.get_attribute('href')\n",
    "            # link.click()\n",
    "            print(link.text)\n",
    "        else:\n",
    "            try:\n",
    "                model = ingestion_models.EventMinutesItem(\n",
    "                    minutes_item = ingestion_models.MinutesItem(\n",
    "                        list.find_element(by='css selector', value='.custom-rcaview-action-review').text\n",
    "                    ),\n",
    "                    decision = list.find_element(by='css selector', value='.col-md-12 b').text.replace('Action Taken: ', '')\n",
    "                )\n",
    "                event_minutes_items.append(model)\n",
    "            except (selenium.common.exceptions.NoSuchElementException):\n",
    "                continue\n",
    "    except (selenium.common.exceptions.NoSuchElementException):\n",
    "        continue\n",
    "event_minutes_items\n",
    "        "
   ]
  },
  {
   "cell_type": "code",
   "execution_count": 109,
   "metadata": {},
   "outputs": [],
   "source": [
    "driver.quit()"
   ]
  },
  {
   "cell_type": "code",
   "execution_count": null,
   "metadata": {},
   "outputs": [],
   "source": []
  }
 ],
 "metadata": {
  "kernelspec": {
   "display_name": "Python 3.10.4 64-bit",
   "language": "python",
   "name": "python3"
  },
  "language_info": {
   "codemirror_mode": {
    "name": "ipython",
    "version": 3
   },
   "file_extension": ".py",
   "mimetype": "text/x-python",
   "name": "python",
   "nbconvert_exporter": "python",
   "pygments_lexer": "ipython3",
   "version": "3.10.4"
  },
  "orig_nbformat": 4,
  "vscode": {
   "interpreter": {
    "hash": "369f2c481f4da34e4445cda3fffd2e751bd1c4d706f27375911949ba6bb62e1c"
   }
  }
 },
 "nbformat": 4,
 "nbformat_minor": 2
}
