{
 "cells": [
  {
   "cell_type": "code",
   "execution_count": 118,
   "metadata": {},
   "outputs": [],
   "source": [
    "from selenium.webdriver.common.keys import Keys\n",
    "# import time\n",
    "from webdriver_manager.chrome import ChromeDriverManager\n",
    "from selenium import webdriver\n",
    "import selenium\n",
    "from selenium.webdriver.common.keys import Keys\n",
    "from selenium.webdriver.common.by import By\n",
    "from cdp_backend.pipeline import ingestion_models\n",
    "from datetime import datetime\n",
    "from selenium.webdriver.support.ui import WebDriverWait\n",
    "from selenium.webdriver.support import expected_conditions as ec\n",
    "import pandas as pd"
   ]
  },
  {
   "cell_type": "code",
   "execution_count": 42,
   "metadata": {},
   "outputs": [
    {
     "name": "stdout",
     "output_type": "stream",
     "text": [
      "\n"
     ]
    },
    {
     "name": "stderr",
     "output_type": "stream",
     "text": [
      "C:\\Users\\MSI_NB\\AppData\\Local\\Temp\\ipykernel_20992\\3421782549.py:3: DeprecationWarning: executable_path has been deprecated, please pass in a Service object\n",
      "  driver = webdriver.Chrome(executable_path=ChromeDriverManager().install())\n",
      "C:\\Users\\MSI_NB\\AppData\\Local\\Temp\\ipykernel_20992\\3421782549.py:12: FutureWarning: The frame.append method is deprecated and will be removed from pandas in a future version. Use pandas.concat instead.\n",
      "  city_council = city_council.append({'name': name, 'position': position, 'role': role}, ignore_index=True)\n",
      "C:\\Users\\MSI_NB\\AppData\\Local\\Temp\\ipykernel_20992\\3421782549.py:12: FutureWarning: The frame.append method is deprecated and will be removed from pandas in a future version. Use pandas.concat instead.\n",
      "  city_council = city_council.append({'name': name, 'position': position, 'role': role}, ignore_index=True)\n",
      "C:\\Users\\MSI_NB\\AppData\\Local\\Temp\\ipykernel_20992\\3421782549.py:12: FutureWarning: The frame.append method is deprecated and will be removed from pandas in a future version. Use pandas.concat instead.\n",
      "  city_council = city_council.append({'name': name, 'position': position, 'role': role}, ignore_index=True)\n",
      "C:\\Users\\MSI_NB\\AppData\\Local\\Temp\\ipykernel_20992\\3421782549.py:12: FutureWarning: The frame.append method is deprecated and will be removed from pandas in a future version. Use pandas.concat instead.\n",
      "  city_council = city_council.append({'name': name, 'position': position, 'role': role}, ignore_index=True)\n",
      "C:\\Users\\MSI_NB\\AppData\\Local\\Temp\\ipykernel_20992\\3421782549.py:12: FutureWarning: The frame.append method is deprecated and will be removed from pandas in a future version. Use pandas.concat instead.\n",
      "  city_council = city_council.append({'name': name, 'position': position, 'role': role}, ignore_index=True)\n",
      "C:\\Users\\MSI_NB\\AppData\\Local\\Temp\\ipykernel_20992\\3421782549.py:12: FutureWarning: The frame.append method is deprecated and will be removed from pandas in a future version. Use pandas.concat instead.\n",
      "  city_council = city_council.append({'name': name, 'position': position, 'role': role}, ignore_index=True)\n",
      "C:\\Users\\MSI_NB\\AppData\\Local\\Temp\\ipykernel_20992\\3421782549.py:12: FutureWarning: The frame.append method is deprecated and will be removed from pandas in a future version. Use pandas.concat instead.\n",
      "  city_council = city_council.append({'name': name, 'position': position, 'role': role}, ignore_index=True)\n",
      "C:\\Users\\MSI_NB\\AppData\\Local\\Temp\\ipykernel_20992\\3421782549.py:12: FutureWarning: The frame.append method is deprecated and will be removed from pandas in a future version. Use pandas.concat instead.\n",
      "  city_council = city_council.append({'name': name, 'position': position, 'role': role}, ignore_index=True)\n",
      "C:\\Users\\MSI_NB\\AppData\\Local\\Temp\\ipykernel_20992\\3421782549.py:12: FutureWarning: The frame.append method is deprecated and will be removed from pandas in a future version. Use pandas.concat instead.\n",
      "  city_council = city_council.append({'name': name, 'position': position, 'role': role}, ignore_index=True)\n",
      "C:\\Users\\MSI_NB\\AppData\\Local\\Temp\\ipykernel_20992\\3421782549.py:12: FutureWarning: The frame.append method is deprecated and will be removed from pandas in a future version. Use pandas.concat instead.\n",
      "  city_council = city_council.append({'name': name, 'position': position, 'role': role}, ignore_index=True)\n",
      "C:\\Users\\MSI_NB\\AppData\\Local\\Temp\\ipykernel_20992\\3421782549.py:12: FutureWarning: The frame.append method is deprecated and will be removed from pandas in a future version. Use pandas.concat instead.\n",
      "  city_council = city_council.append({'name': name, 'position': position, 'role': role}, ignore_index=True)\n",
      "C:\\Users\\MSI_NB\\AppData\\Local\\Temp\\ipykernel_20992\\3421782549.py:12: FutureWarning: The frame.append method is deprecated and will be removed from pandas in a future version. Use pandas.concat instead.\n",
      "  city_council = city_council.append({'name': name, 'position': position, 'role': role}, ignore_index=True)\n",
      "C:\\Users\\MSI_NB\\AppData\\Local\\Temp\\ipykernel_20992\\3421782549.py:12: FutureWarning: The frame.append method is deprecated and will be removed from pandas in a future version. Use pandas.concat instead.\n",
      "  city_council = city_council.append({'name': name, 'position': position, 'role': role}, ignore_index=True)\n"
     ]
    }
   ],
   "source": [
    "# Get basic council memeber information\n",
    "city_council = pd.DataFrame()\n",
    "driver = webdriver.Chrome(executable_path=ChromeDriverManager().install())\n",
    "council_url = 'https://www.minneapolismn.gov/government/city-council/'\n",
    "driver.get(council_url)\n",
    "cards = driver.find_elements(By.CSS_SELECTOR, '#image-text-link-50242 a.card-link')\n",
    "len(cards)\n",
    "for card in cards:\n",
    "    driver.get(card.get_attribute('href'))\n",
    "    position, name = driver.find_element(By.CSS_SELECTOR, '.masthead--title').text.split(' - ')\n",
    "    role = driver.find_element(By.CSS_SELECTOR, 'a.contact span.title').text\n",
    "    city_council = city_council.append({'name': name, 'position': position, 'role': role}, ignore_index=True)\n",
    "    driver.back()\n",
    "driver.quit()"
   ]
  },
  {
   "cell_type": "code",
   "execution_count": 43,
   "metadata": {},
   "outputs": [
    {
     "data": {
      "text/html": [
       "<div>\n",
       "<style scoped>\n",
       "    .dataframe tbody tr th:only-of-type {\n",
       "        vertical-align: middle;\n",
       "    }\n",
       "\n",
       "    .dataframe tbody tr th {\n",
       "        vertical-align: top;\n",
       "    }\n",
       "\n",
       "    .dataframe thead th {\n",
       "        text-align: right;\n",
       "    }\n",
       "</style>\n",
       "<table border=\"1\" class=\"dataframe\">\n",
       "  <thead>\n",
       "    <tr style=\"text-align: right;\">\n",
       "      <th></th>\n",
       "      <th>name</th>\n",
       "      <th>position</th>\n",
       "      <th>role</th>\n",
       "    </tr>\n",
       "  </thead>\n",
       "  <tbody>\n",
       "    <tr>\n",
       "      <th>0</th>\n",
       "      <td>Elliott Payne</td>\n",
       "      <td>Ward 1</td>\n",
       "      <td>Council Member</td>\n",
       "    </tr>\n",
       "    <tr>\n",
       "      <th>1</th>\n",
       "      <td>Robin Wonsley</td>\n",
       "      <td>Ward 2</td>\n",
       "      <td>Council Member</td>\n",
       "    </tr>\n",
       "    <tr>\n",
       "      <th>2</th>\n",
       "      <td>Michael Rainville</td>\n",
       "      <td>Ward 3</td>\n",
       "      <td>Council Member</td>\n",
       "    </tr>\n",
       "    <tr>\n",
       "      <th>3</th>\n",
       "      <td>LaTrisha Vetaw</td>\n",
       "      <td>Ward 4</td>\n",
       "      <td>Council Member</td>\n",
       "    </tr>\n",
       "    <tr>\n",
       "      <th>4</th>\n",
       "      <td>Jeremiah Ellison</td>\n",
       "      <td>Ward 5</td>\n",
       "      <td>Council Member</td>\n",
       "    </tr>\n",
       "    <tr>\n",
       "      <th>5</th>\n",
       "      <td>Jamal Osman</td>\n",
       "      <td>Ward 6</td>\n",
       "      <td>Council Member</td>\n",
       "    </tr>\n",
       "    <tr>\n",
       "      <th>6</th>\n",
       "      <td>Lisa Goodman</td>\n",
       "      <td>Ward 7</td>\n",
       "      <td>Council Member</td>\n",
       "    </tr>\n",
       "    <tr>\n",
       "      <th>7</th>\n",
       "      <td>Andrea Jenkins</td>\n",
       "      <td>Ward 8</td>\n",
       "      <td>Council President</td>\n",
       "    </tr>\n",
       "    <tr>\n",
       "      <th>8</th>\n",
       "      <td>Jason Chavez</td>\n",
       "      <td>Ward 9</td>\n",
       "      <td>Council Member</td>\n",
       "    </tr>\n",
       "    <tr>\n",
       "      <th>9</th>\n",
       "      <td>Aisha Chughtai</td>\n",
       "      <td>Ward 10</td>\n",
       "      <td>Council Member</td>\n",
       "    </tr>\n",
       "    <tr>\n",
       "      <th>10</th>\n",
       "      <td>Emily Koski</td>\n",
       "      <td>Ward 11</td>\n",
       "      <td>Council Member</td>\n",
       "    </tr>\n",
       "    <tr>\n",
       "      <th>11</th>\n",
       "      <td>Andrew Johnson</td>\n",
       "      <td>Ward 12</td>\n",
       "      <td>Council Member</td>\n",
       "    </tr>\n",
       "    <tr>\n",
       "      <th>12</th>\n",
       "      <td>Linea Palmisano</td>\n",
       "      <td>Ward 13</td>\n",
       "      <td>Council Vice-President</td>\n",
       "    </tr>\n",
       "  </tbody>\n",
       "</table>\n",
       "</div>"
      ],
      "text/plain": [
       "                 name position                    role\n",
       "0       Elliott Payne   Ward 1          Council Member\n",
       "1       Robin Wonsley   Ward 2          Council Member\n",
       "2   Michael Rainville   Ward 3          Council Member\n",
       "3      LaTrisha Vetaw   Ward 4          Council Member\n",
       "4    Jeremiah Ellison   Ward 5          Council Member\n",
       "5         Jamal Osman   Ward 6          Council Member\n",
       "6        Lisa Goodman   Ward 7          Council Member\n",
       "7      Andrea Jenkins   Ward 8       Council President\n",
       "8        Jason Chavez   Ward 9          Council Member\n",
       "9      Aisha Chughtai  Ward 10          Council Member\n",
       "10        Emily Koski  Ward 11          Council Member\n",
       "11     Andrew Johnson  Ward 12          Council Member\n",
       "12    Linea Palmisano  Ward 13  Council Vice-President"
      ]
     },
     "execution_count": 43,
     "metadata": {},
     "output_type": "execute_result"
    }
   ],
   "source": [
    "city_council"
   ]
  },
  {
   "cell_type": "code",
   "execution_count": 56,
   "metadata": {},
   "outputs": [
    {
     "name": "stdout",
     "output_type": "stream",
     "text": [
      "\n"
     ]
    },
    {
     "name": "stderr",
     "output_type": "stream",
     "text": [
      "C:\\Users\\MSI_NB\\AppData\\Local\\Temp\\ipykernel_20992\\4143411418.py:1: DeprecationWarning: executable_path has been deprecated, please pass in a Service object\n",
      "  driver = webdriver.Chrome(executable_path=ChromeDriverManager().install())\n"
     ]
    }
   ],
   "source": [
    "driver = webdriver.Chrome(executable_path=ChromeDriverManager().install())\n",
    "url = \"https://lims.minneapolismn.gov/MarkedAgenda/3323\"\n",
    "driver.get(url)"
   ]
  },
  {
   "cell_type": "code",
   "execution_count": 129,
   "metadata": {},
   "outputs": [
    {
     "name": "stdout",
     "output_type": "stream",
     "text": [
      "\n"
     ]
    },
    {
     "name": "stderr",
     "output_type": "stream",
     "text": [
      "C:\\Users\\MSI_NB\\AppData\\Local\\Temp\\ipykernel_20992\\200673377.py:1: DeprecationWarning: executable_path has been deprecated, please pass in a Service object\n",
      "  driver = webdriver.Chrome(executable_path=ChromeDriverManager().install())\n"
     ]
    },
    {
     "ename": "ValueError",
     "evalue": "not enough values to unpack (expected 5, got 1)",
     "output_type": "error",
     "traceback": [
      "\u001b[1;31m---------------------------------------------------------------------------\u001b[0m",
      "\u001b[1;31mValueError\u001b[0m                                Traceback (most recent call last)",
      "\u001b[1;32mc:\\Users\\MSI_NB\\Desktop\\Academics\\CDP\\cdp-scrapers\\cdp_scrapers\\individual_scraper.ipynb Cell 5\u001b[0m in \u001b[0;36m<cell line: 10>\u001b[1;34m()\u001b[0m\n\u001b[0;32m      <a href='vscode-notebook-cell:/c%3A/Users/MSI_NB/Desktop/Academics/CDP/cdp-scrapers/cdp_scrapers/individual_scraper.ipynb#ch0000013?line=6'>7</a>\u001b[0m \u001b[39m# Get Datetime:\u001b[39;00m\n\u001b[0;32m      <a href='vscode-notebook-cell:/c%3A/Users/MSI_NB/Desktop/Academics/CDP/cdp-scrapers/cdp_scrapers/individual_scraper.ipynb#ch0000013?line=7'>8</a>\u001b[0m dt \u001b[39m=\u001b[39m driver\u001b[39m.\u001b[39mfind_element(by\u001b[39m=\u001b[39m\u001b[39m'\u001b[39m\u001b[39mcss selector\u001b[39m\u001b[39m'\u001b[39m, value\u001b[39m=\u001b[39m\u001b[39m'\u001b[39m\u001b[39m.agendaHeader .col-md-12:nth-child(3)\u001b[39m\u001b[39m'\u001b[39m)\u001b[39m.\u001b[39mtext \\\n\u001b[0;32m      <a href='vscode-notebook-cell:/c%3A/Users/MSI_NB/Desktop/Academics/CDP/cdp-scrapers/cdp_scrapers/individual_scraper.ipynb#ch0000013?line=8'>9</a>\u001b[0m     \u001b[39m.\u001b[39mreplace(\u001b[39m'\u001b[39m\u001b[39m,\u001b[39m\u001b[39m'\u001b[39m, \u001b[39m'\u001b[39m\u001b[39m'\u001b[39m)\u001b[39m.\u001b[39mreplace(\u001b[39m'\u001b[39m\u001b[39m- \u001b[39m\u001b[39m'\u001b[39m, \u001b[39m'\u001b[39m\u001b[39m'\u001b[39m)\u001b[39m.\u001b[39msplit(\u001b[39m'\u001b[39m\u001b[39m \u001b[39m\u001b[39m'\u001b[39m)\n\u001b[1;32m---> <a href='vscode-notebook-cell:/c%3A/Users/MSI_NB/Desktop/Academics/CDP/cdp-scrapers/cdp_scrapers/individual_scraper.ipynb#ch0000013?line=9'>10</a>\u001b[0m month, day, year, time, ampm \u001b[39m=\u001b[39m dt\n\u001b[0;32m     <a href='vscode-notebook-cell:/c%3A/Users/MSI_NB/Desktop/Academics/CDP/cdp-scrapers/cdp_scrapers/individual_scraper.ipynb#ch0000013?line=10'>11</a>\u001b[0m hour, minute \u001b[39m=\u001b[39m time\u001b[39m.\u001b[39msplit(\u001b[39m'\u001b[39m\u001b[39m:\u001b[39m\u001b[39m'\u001b[39m)\n\u001b[0;32m     <a href='vscode-notebook-cell:/c%3A/Users/MSI_NB/Desktop/Academics/CDP/cdp-scrapers/cdp_scrapers/individual_scraper.ipynb#ch0000013?line=11'>12</a>\u001b[0m hour, minute \u001b[39m=\u001b[39m \u001b[39mint\u001b[39m(hour), \u001b[39mint\u001b[39m(minute)\n",
      "\u001b[1;31mValueError\u001b[0m: not enough values to unpack (expected 5, got 1)"
     ]
    }
   ],
   "source": [
    "driver = webdriver.Chrome(executable_path=ChromeDriverManager().install())\n",
    "url = \"https://lims.minneapolismn.gov/MarkedAgenda/3323\"\n",
    "driver.get(url)\n",
    "\n",
    "sessions = []\n",
    "\n",
    "# Get Datetime:\n",
    "dt = driver.find_element(by='css selector', value='.agendaHeader .col-md-12:nth-child(3)').text \\\n",
    "    .replace(',', '').replace('- ', '').split(' ')\n",
    "month, day, year, time, ampm = dt\n",
    "hour, minute = time.split(':')\n",
    "hour, minute = int(hour), int(minute)\n",
    "hour, minute\n",
    "if ampm == 'pm':\n",
    "    hour += 12\n",
    "dt = datetime(int(year), datetime.strptime(month, \"%B\").month, int(day), hour, minute)\n",
    "dt.isoformat()\n",
    "dt.year, dt.month, dt.day\n",
    "# video_link = driver.find_element(by='id', value='VideoIcon_0_0')\n",
    "# video_link.click()\n",
    "# video = WebDriverWait(driver, 4).until(\n",
    "#     ec.presence_of_element_located((By.CSS_SELECTOR, '.close span'))\n",
    "# )\n",
    "\n",
    "# link = WebDriverWait(driver, 2).until(\n",
    "#     ec.presence_of_element_located((By.CSS_SELECTOR, 'iframe'))\n",
    "# )\n",
    "# sessions.append(\n",
    "#     ingestion_models.Session(\n",
    "#         # Get Video Link:\n",
    "#         video_uri=link.get_attribute('src'),\n",
    "#         session_index=0,\n",
    "#         session_datetime=dt\n",
    "#     )\n",
    "# )"
   ]
  },
  {
   "cell_type": "code",
   "execution_count": 137,
   "metadata": {},
   "outputs": [
    {
     "name": "stdout",
     "output_type": "stream",
     "text": [
      "\n"
     ]
    },
    {
     "name": "stderr",
     "output_type": "stream",
     "text": [
      "C:\\Users\\MSI_NB\\AppData\\Local\\Temp\\ipykernel_20992\\2044126189.py:1: DeprecationWarning: executable_path has been deprecated, please pass in a Service object\n",
      "  driver = webdriver.Chrome(executable_path=ChromeDriverManager().install())\n"
     ]
    },
    {
     "name": "stdout",
     "output_type": "stream",
     "text": [
      "<selenium.webdriver.remote.webelement.WebElement (session=\"f48bee263590bd5f488af1d702abaac7\", element=\"17f603a0-eb2c-491d-ae49-3be4162066d6\")>\n",
      "\n"
     ]
    }
   ],
   "source": [
    "driver = webdriver.Chrome(executable_path=ChromeDriverManager().install())\n",
    "url = \"https://lims.minneapolismn.gov/MarkedAgenda/3323\"\n",
    "driver.get(url)\n",
    "\n",
    "sessions = []\n",
    "\n",
    "# Get Datetime:\n",
    "dt = driver.find_element(by='css selector', value='.agendaHeader .col-md-12:nth-child(3)').text \\\n",
    "    .replace(',', '').replace('- ', '').split(' ')\n",
    "month, day, year, time, ampm = dt\n",
    "hour, minute = time.split(':')\n",
    "hour, minute = int(hour), int(minute)\n",
    "hour, minute\n",
    "if ampm == 'pm':\n",
    "    hour += 12\n",
    "dt = datetime(int(year), datetime.strptime(month, \"%B\").month, int(day), hour, minute)\n",
    "dt.isoformat()\n",
    "dt.year, dt.month, dt.day\n",
    "\n",
    "\n",
    "# Inspecting each minute_item:\n",
    "li = driver.find_elements(by='css selector', value='li.customLineHeight')\n",
    "event_minutes_items = []\n",
    "month_convert = {\n",
    "    'Jan': 'January',\n",
    "    'Feb': 'February',\n",
    "    'Mar': 'March',\n",
    "    'Apr': 'April',\n",
    "    'May': 'May',\n",
    "    'Jun': 'June',\n",
    "    'Jul': 'July',\n",
    "    'Aug': 'August',\n",
    "    'Sep': 'September',\n",
    "    'Oct': 'October',\n",
    "    'Nov': 'November',\n",
    "    'Dec': 'December'\n",
    "}\n",
    "for list in li[:6]:\n",
    "    try:\n",
    "        # try:\n",
    "        if list.find_element(By.CSS_SELECTOR, 'a').get_attribute('class') == 'hrefnowrap':\n",
    "            link = list.find_element(By.CSS_SELECTOR, 'a.hrefnowrap')\n",
    "            print(link)\n",
    "            # driver.get(link.get_attribute('href'))\n",
    "            # print('a')\n",
    "\n",
    "            \n",
    "            # driver.back()\n",
    "            \n",
    "            link.click()\n",
    "            before = driver.window_handles[0]\n",
    "            after = driver.window_handles[1]\n",
    "            driver.switch_to.window(after)\n",
    "            element = WebDriverWait(driver, 2).until(\n",
    "                ec.presence_of_element_located((By.CSS_SELECTOR, 'body'))\n",
    "            )\n",
    "            \n",
    "            #以下准备uncomment\n",
    "            \n",
    "            minutes_item = element.find_element(By.CSS_SELECTOR, '.togglec .ng-binding')\n",
    "            name = minutes_item.text.replace('This link open a new window\\n', '')\n",
    "            title = element.find_element(By.CSS_SELECTOR, '.legisDetails-tog p').text\n",
    "            m_type = element.find_element(By.CSS_SELECTOR, '.togglec h5').text.split(' ')[0]\n",
    "            decision = element.find_element(By.CSS_SELECTOR, 'span.detail_Status').text\n",
    "            \n",
    "            tables = element.find_elements(By.CSS_SELECTOR, '.col_full.nobottommargin')\n",
    "            for table in tables:\n",
    "                if 'Legislative History' in table.text:\n",
    "                    rows = table.find_elements(By.CSS_SELECTOR, 'table tr')\n",
    "                    rows = rows[1:-1]\n",
    "                    for row in rows:\n",
    "                        vote_date = row.find_element(By.CSS_SELECTOR, 'td:nth-child(1)').text #.split(' ')\n",
    "                        vote_date = vote_date.replace(vote_date[:3], month_convert[vote_date[:3]])\n",
    "                        vote_date = datetime.strptime(vote_date, \"%B %d, %Y\")\n",
    "                        if (vote_date.year, vote_date.month, vote_date.day) == (dt.year, dt.month, dt.day):\n",
    "                            vote_link = row.find_element(By.CSS_SELECTOR, 'td:nth-child(2) a')\n",
    "                            vote_link.click()\n",
    "                            \n",
    "                            element = WebDriverWait(driver, 2).until(\n",
    "                                ec.visibility_of_element_located((By.CLASS_NAME, '.vote-table'))\n",
    "                            )\n",
    "                            # print(element.text)\n",
    "                            voters = driver.find_element(By.CSS_SELECTOR, 'vote-row')\n",
    "                            print(voters.text)\n",
    "                            # print(len(voters))\n",
    "                            # print(voters[0])\n",
    "                            # print(voters[0].text)\n",
    "                            # for voter in voters:\n",
    "                            #     print(voter.text)\n",
    "                            break\n",
    "\n",
    "            driver.switch_to.window(before)\n",
    "        else:\n",
    "            try:\n",
    "                model = ingestion_models.EventMinutesItem(\n",
    "                    minutes_item = ingestion_models.MinutesItem(\n",
    "                        list.find_element(by='css selector', value='.custom-rcaview-action-review').text\n",
    "                    ),\n",
    "                    decision = list.find_element(by='css selector', value='.col-md-12 b').text.replace('Action Taken: ', '')\n",
    "                )\n",
    "                event_minutes_items.append(model)\n",
    "            except (selenium.common.exceptions.NoSuchElementException):\n",
    "                continue\n",
    "        # except (selenium.common.exceptions.StaleElementReferenceException):\n",
    "        #     print('error when requesting a new page')\n",
    "        #     driver.quit()\n",
    "    except (selenium.common.exceptions.NoSuchElementException):\n",
    "        continue\n",
    "# event_minutes_items"
   ]
  },
  {
   "cell_type": "code",
   "execution_count": 136,
   "metadata": {},
   "outputs": [],
   "source": [
    "driver.quit()"
   ]
  },
  {
   "cell_type": "code",
   "execution_count": null,
   "metadata": {},
   "outputs": [],
   "source": []
  }
 ],
 "metadata": {
  "kernelspec": {
   "display_name": "Python 3.10.4 64-bit",
   "language": "python",
   "name": "python3"
  },
  "language_info": {
   "codemirror_mode": {
    "name": "ipython",
    "version": 3
   },
   "file_extension": ".py",
   "mimetype": "text/x-python",
   "name": "python",
   "nbconvert_exporter": "python",
   "pygments_lexer": "ipython3",
   "version": "3.10.4"
  },
  "orig_nbformat": 4,
  "vscode": {
   "interpreter": {
    "hash": "369f2c481f4da34e4445cda3fffd2e751bd1c4d706f27375911949ba6bb62e1c"
   }
  }
 },
 "nbformat": 4,
 "nbformat_minor": 2
}
